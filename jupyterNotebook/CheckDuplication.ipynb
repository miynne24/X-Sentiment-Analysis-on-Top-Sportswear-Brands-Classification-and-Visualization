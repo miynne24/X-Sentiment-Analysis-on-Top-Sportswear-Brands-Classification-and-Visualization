{
 "cells": [
  {
   "cell_type": "code",
   "execution_count": 5,
   "id": "d4cbb808-8f5f-482d-b2ad-92209e2be80e",
   "metadata": {},
   "outputs": [
    {
     "name": "stdout",
     "output_type": "stream",
     "text": [
      "Number of duplicate rows based on 'normalized_text' column: 4243\n"
     ]
    }
   ],
   "source": [
    "import pandas as pd\n",
    "\n",
    "# Load the cleaned dataset\n",
    "data = pd.read_csv('Nikedataset_cleaned.csv')\n",
    "\n",
    "# Count the number of duplicate rows based on the 'normalized_text' column\n",
    "num_duplicates = data.duplicated(subset=['normalized_text']).sum()\n",
    "\n",
    "print(\"Number of duplicate rows based on 'normalized_text' column:\", num_duplicates)\n"
   ]
  },
  {
   "cell_type": "code",
   "execution_count": null,
   "id": "1e0845cd-8429-48a5-b123-c79e6575a56e",
   "metadata": {},
   "outputs": [],
   "source": []
  }
 ],
 "metadata": {
  "kernelspec": {
   "display_name": "Python 3 (ipykernel)",
   "language": "python",
   "name": "python3"
  },
  "language_info": {
   "codemirror_mode": {
    "name": "ipython",
    "version": 3
   },
   "file_extension": ".py",
   "mimetype": "text/x-python",
   "name": "python",
   "nbconvert_exporter": "python",
   "pygments_lexer": "ipython3",
   "version": "3.12.2"
  }
 },
 "nbformat": 4,
 "nbformat_minor": 5
}
