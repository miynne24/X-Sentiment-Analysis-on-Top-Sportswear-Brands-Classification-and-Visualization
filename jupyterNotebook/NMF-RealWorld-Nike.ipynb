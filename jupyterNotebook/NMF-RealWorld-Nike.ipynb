{
 "cells": [
  {
   "cell_type": "code",
   "execution_count": 43,
   "id": "9a857863-0034-486e-aa03-fd6583779de8",
   "metadata": {},
   "outputs": [],
   "source": [
    "import pandas as pd\n",
    "em=pd.read_csv('Nikedataset_cleaned.csv')\n",
    "from sklearn.feature_extraction.text import TfidfVectorizer\n",
    "tfidf=TfidfVectorizer(max_df=0.95,min_df=2,stop_words='english')"
   ]
  },
  {
   "cell_type": "code",
   "execution_count": 64,
   "id": "a806dca6-f177-4fa8-9b1f-dc166e03a331",
   "metadata": {},
   "outputs": [
    {
     "name": "stdout",
     "output_type": "stream",
     "text": [
      "(0, (4.033*\" sizes \" + 3.513*\" size \" + 2.257*\" sku \" + 2.106*\" new \" + 0.875*\" available \" + 0.778*\" white \" + 0.561*\" air \" + 0.532*\" force \" + 0.417*\" nike \" + 0.381*\" retro \" + 0.283*\" jordan \" + 0.261*\" sail \" + 0.247*\" mid \" + 0.206*\" anthracite \" + 0.187*\" grey \" + 0.178*\" lx \" + 0.167*\" nkdv \" + 0.161*\" summit \" + 0.148*\" sp \" + 0.146*\" prm \" + 0.142*\" sb \" + 0.135*\" blazer \" + 0.131*\" gs \" + 0.113*\" ap \" + 0.106*\" premium \" + 0.103*\" lv \" + 0.103*\" red \" + 0.101*\" milk \" + 0.101*\" metallic \" + 0.091*\" nkdj \" + 0.091*\" navy \" + 0.088*\" nkdq \" + 0.087*\" nocta \" + 0.087*\" brown \" + 0.087*\" silver \" + 0.086*\" midnight \" + 0.084*\" coconut \" + 0.080*\" nkdd \" + 0.079*\" zoom \" + 0.078*\" nkfj \" + 0.076*\" gum \" + 0.076*\" nkdz \" + 0.075*\" nikeairmaxapcu \" + 0.075*\" foamposite \" + 0.075*\" slides \" + 0.075*\" pro \" + 0.072*\" green \" + 0.071*\" cb \" + 0.070*\" light \" + 0.070*\" uptempo \"))\n",
      "(1, (3.116*\" check \" + 2.811*\" listing \" + 1.128*\" mens \" + 0.994*\" sleeve \" + 0.960*\" drifit \" + 0.958*\" size \" + 0.699*\" fit \" + 0.662*\" xl \" + 0.647*\" short \" + 0.593*\" large \" + 0.579*\" nike \" + 0.513*\" dri \" + 0.444*\" long \" + 0.437*\" shirt \" + 0.414*\" medium \" + 0.405*\" men \" + 0.401*\" athletic \" + 0.345*\" tee \" + 0.314*\" lightweight \" + 0.305*\" gray \" + 0.279*\" womens \" + 0.260*\" xxl \" + 0.250*\" dry \" + 0.235*\" running \" + 0.215*\" small \" + 0.203*\" red \" + 0.180*\" pro \" + 0.173*\" women \" + 0.172*\" white \" + 0.164*\" performance \" + 0.160*\" zip \" + 0.143*\" jacket \" + 0.141*\" jordan \" + 0.138*\" sz \" + 0.137*\" nwt \" + 0.136*\" vintage \" + 0.134*\" striped \" + 0.132*\" pink \" + 0.132*\" green \" + 0.130*\" basketball \" + 0.120*\" boys \" + 0.118*\" training \" + 0.114*\" nba \" + 0.113*\" tour \" + 0.102*\" tank \" + 0.098*\" swoosh \" + 0.097*\" sleeveless \" + 0.093*\" orange \" + 0.091*\" shoes \" + 0.091*\" pullover \"))\n",
      "(2, (2.573*\" shipping \" + 2.572*\" promotion \" + 2.379*\" free \" + 2.226*\" buy \" + 1.891*\" checkout \" + 1.697*\" code \" + 0.569*\" retro \" + 0.432*\" savings \" + 0.429*\" pm \" + 0.399*\" sizes \" + 0.394*\" ends \" + 0.387*\" retail \" + 0.371*\" ultimate \" + 0.360*\" nike \" + 0.334*\" premium \" + 0.307*\" summer \" + 0.302*\" offer \" + 0.281*\" force \" + 0.277*\" appdays \" + 0.263*\" good \" + 0.248*\" save \" + 0.243*\" whiteblack \" + 0.222*\" deal \" + 0.220*\" blazer \" + 0.218*\" active \" + 0.204*\" remain \" + 0.194*\" zoom \" + 0.191*\" mid \" + 0.191*\" nice \" + 0.180*\" flyknit \" + 0.163*\" range \" + 0.150*\" limitedtime \" + 0.149*\" air \" + 0.148*\" blackwhite \" + 0.147*\" colorway \" + 0.145*\" summeryays \" + 0.144*\" time \" + 0.140*\" limited \" + 0.139*\" pairs \" + 0.136*\" tonight \" + 0.124*\" sportswear \" + 0.119*\" fleece \" + 0.118*\" pegasus \" + 0.114*\" wmns \" + 0.114*\" grey \" + 0.111*\" heart \" + 0.110*\" aff \" + 0.106*\" run \" + 0.104*\" flash \" + 0.100*\" rn \"))\n",
      "(3, (2.700*\" air \" + 2.497*\" max \" + 1.962*\" retail \" + 1.002*\" available \" + 0.717*\" nike \" + 0.524*\" vapormax \" + 0.495*\" womens \" + 0.464*\" plus \" + 0.443*\" code \" + 0.392*\" red \" + 0.273*\" penny \" + 0.262*\" force \" + 0.227*\" og \" + 0.224*\" flyknit \" + 0.197*\" blackuniversity \" + 0.193*\" chili \" + 0.179*\" pink \" + 0.177*\" cb \" + 0.173*\" green \" + 0.171*\" volt \" + 0.167*\" university \" + 0.164*\" white \" + 0.162*\" jordan \" + 0.144*\" royal \" + 0.137*\" grey \" + 0.134*\" bullet \" + 0.134*\" buy \" + 0.127*\" silver \" + 0.121*\" stardust \" + 0.118*\" blackmetallic \" + 0.118*\" winterfunderland \" + 0.110*\" size \" + 0.110*\" safety \" + 0.110*\" gold \" + 0.108*\" orange \" + 0.107*\" blackpicante \" + 0.103*\" olive \" + 0.102*\" steal \" + 0.099*\" uk \" + 0.097*\" stadium \" + 0.096*\" drift \" + 0.092*\" rrp \" + 0.088*\" fk \" + 0.088*\" crimson \" + 0.086*\" foam \" + 0.085*\" smoke \" + 0.079*\" fuchsia \" + 0.078*\" dream \" + 0.075*\" racer \" + 0.075*\" psychic \"))\n",
      "(4, (3.988*\" shirt \" + 1.342*\" nike \" + 0.360*\" football \" + 0.291*\" away \" + 0.265*\" wearing \" + 0.212*\" adidas \" + 0.204*\" sell \" + 0.185*\" like \" + 0.155*\" arsenal \" + 0.152*\" make \" + 0.150*\" shirts \" + 0.146*\" need \" + 0.138*\" shorts \" + 0.132*\" buy \" + 0.129*\" world \" + 0.129*\" kit \" + 0.123*\" jersey \" + 0.123*\" love \" + 0.121*\" white \" + 0.121*\" xl \" + 0.119*\" new \" + 0.118*\" barcelona \" + 0.115*\" fc \" + 0.112*\" best \" + 0.110*\" think \" + 0.109*\" chelsea \" + 0.107*\" cup \" + 0.107*\" season \" + 0.106*\" currently \" + 0.104*\" replica \" + 0.101*\" amp \" + 0.101*\" sponsor \" + 0.100*\" nice \" + 0.100*\" vintage \" + 0.098*\" wear \" + 0.097*\" original \" + 0.097*\" watchers \" + 0.093*\" manchester \" + 0.090*\" large \" + 0.088*\" lionesses \" + 0.087*\" small \" + 0.084*\" pants \" + 0.084*\" design \" + 0.083*\" know \" + 0.082*\" medium \" + 0.082*\" guy \" + 0.081*\" official \" + 0.080*\" selling \" + 0.079*\" ends \" + 0.079*\" pm \"))\n",
      "(5, (2.355*\" available \" + 2.327*\" dunk \" + 1.040*\" nike \" + 0.730*\" high \" + 0.533*\" womens \" + 0.400*\" sb \" + 0.336*\" blackwhite \" + 0.323*\" retro \" + 0.310*\" lebron \" + 0.304*\" zoom \" + 0.298*\" vomero \" + 0.263*\" red \" + 0.238*\" university \" + 0.234*\" light \" + 0.223*\" cosmic \" + 0.214*\" summit \" + 0.199*\" whiteracer \" + 0.196*\" pink \" + 0.183*\" online \" + 0.181*\" shop \" + 0.180*\" unity \" + 0.171*\" gold \" + 0.171*\" soft \" + 0.169*\" wmns \" + 0.150*\" armory \" + 0.139*\" blackuniversity \" + 0.138*\" store \" + 0.134*\" triple \" + 0.132*\" sailgum \" + 0.128*\" rose \" + 0.128*\" price \" + 0.127*\" gs \" + 0.125*\" whitephoto \" + 0.119*\" whisper \" + 0.116*\" medium \" + 0.106*\" whitemalachite \" + 0.096*\" tint \" + 0.096*\" hemp \" + 0.095*\" panda \" + 0.092*\" restock \" + 0.092*\" day \" + 0.091*\" aquarius \" + 0.091*\" instore \" + 0.088*\" whiteblack \" + 0.087*\" bonelight \" + 0.085*\" premium \" + 0.084*\" amp \" + 0.084*\" carbonplatinum \" + 0.079*\" waffle \" + 0.078*\" olive \"))\n",
      "(6, (3.208*\" expensive \" + 1.738*\" shoes \" + 1.214*\" nike \" + 1.067*\" like \" + 0.884*\" nikes \" + 0.880*\" comfy \" + 0.590*\" adidas \" + 0.569*\" dont \" + 0.490*\" sneakers \" + 0.451*\" im \" + 0.391*\" wear \" + 0.370*\" running \" + 0.370*\" amp \" + 0.365*\" look \" + 0.357*\" shoe \" + 0.318*\" really \" + 0.298*\" wearing \" + 0.294*\" people \" + 0.291*\" brand \" + 0.287*\" know \" + 0.285*\" good \" + 0.280*\" think \" + 0.272*\" make \" + 0.267*\" bought \" + 0.267*\" lol \" + 0.255*\" pair \" + 0.247*\" shit \" + 0.238*\" offer \" + 0.237*\" love \" + 0.236*\" better \" + 0.234*\" ones \" + 0.225*\" need \" + 0.220*\" time \" + 0.216*\" way \" + 0.209*\" thats \" + 0.208*\" jordan \" + 0.206*\" clothes \" + 0.205*\" soft \" + 0.203*\" quality \" + 0.198*\" money \" + 0.197*\" brands \" + 0.196*\" puma \" + 0.191*\" buying \" + 0.191*\" stuff \" + 0.187*\" new \" + 0.182*\" ive \" + 0.182*\" years \" + 0.175*\" super \" + 0.175*\" shorts \" + 0.172*\" kids \"))\n",
      "(7, (1.559*\" discount \" + 1.465*\" promo \" + 1.442*\" send \" + 1.297*\" delivery \" + 1.295*\" telegram \" + 1.282*\" nationwide \" + 0.705*\" trainers \" + 0.434*\" nike \" + 0.230*\" nation \" + 0.225*\" wide \" + 0.207*\" sb \" + 0.203*\" slider \" + 0.197*\" kits \" + 0.189*\" deliveryy \" + 0.187*\" boots \" + 0.185*\" lightweight \" + 0.172*\" victori \" + 0.166*\" shorts \" + 0.133*\" airforce \" + 0.114*\" code \" + 0.102*\" usd \" + 0.100*\" applied \" + 0.095*\" gym \" + 0.091*\" swoosh \" + 0.091*\" phantom \" + 0.084*\" june \" + 0.084*\" birthday \" + 0.080*\" joggers \" + 0.076*\" running \" + 0.074*\" zoom \" + 0.071*\" sliders \" + 0.071*\" mercurial \" + 0.067*\" pants \" + 0.066*\" pegasus \" + 0.062*\" benassi \" + 0.062*\" tech \" + 0.061*\" cushioning \" + 0.060*\" fabric \" + 0.060*\" order \" + 0.060*\" fitness \" + 0.060*\" training \" + 0.058*\" ls \" + 0.058*\" fleece \" + 0.058*\" ends \" + 0.057*\" salah \" + 0.057*\" gx \" + 0.053*\" pro \" + 0.052*\" super \" + 0.052*\" location \" + 0.052*\" automatically \"))\n",
      "(8, (2.745*\" sale \" + 1.062*\" lower \" + 0.896*\" size \" + 0.778*\" buy \" + 0.319*\" nike \" + 0.247*\" sb \" + 0.225*\" fleece \" + 0.210*\" joggers \" + 0.208*\" tech \" + 0.168*\" dunk \" + 0.167*\" grey \" + 0.147*\" grail \" + 0.140*\" discount \" + 0.140*\" offwhite \" + 0.138*\" cart \" + 0.124*\" soon \" + 0.118*\" applied \" + 0.118*\" air \" + 0.113*\" ends \" + 0.105*\" gid \" + 0.103*\" anatomy \" + 0.101*\" shop \" + 0.101*\" yeezy \" + 0.098*\" scott \" + 0.098*\" force \" + 0.098*\" travis \" + 0.094*\" offers \" + 0.094*\" steal \" + 0.085*\" high \" + 0.085*\" mens \" + 0.070*\" green \" + 0.065*\" kobe \" + 0.063*\" insane \" + 0.062*\" discover \" + 0.061*\" shopping \" + 0.061*\" utopia \" + 0.060*\" fashion \" + 0.060*\" cactus \" + 0.060*\" genuine \" + 0.058*\" jack \" + 0.057*\" branded \" + 0.056*\" hunger \" + 0.056*\" box \" + 0.056*\" menswear \" + 0.055*\" mensfashion \" + 0.055*\" skunk \" + 0.055*\" designer \" + 0.052*\" style \" + 0.051*\" october \" + 0.050*\" amp \"))\n",
      "(9, (1.764*\" price \" + 1.685*\" discount \" + 1.183*\" link \" + 1.080*\" reduction \" + 1.066*\" dropping \" + 1.061*\" pick \" + 1.057*\" pair \" + 1.045*\" ukuk \" + 0.527*\" retail \" + 0.515*\" nike \" + 0.456*\" sizes \" + 0.427*\" white \" + 0.220*\" uk \" + 0.216*\" rrp \" + 0.210*\" shoes \" + 0.206*\" deal \" + 0.188*\" grey \" + 0.167*\" amp \" + 0.148*\" cart \" + 0.148*\" force \" + 0.142*\" usd \" + 0.140*\" using \" + 0.132*\" shop \" + 0.132*\" fraction \" + 0.120*\" code \" + 0.111*\" lazada \" + 0.107*\" mens \" + 0.104*\" triple \" + 0.102*\" vision \" + 0.093*\" fleece \" + 0.091*\" items \" + 0.090*\" air \" + 0.087*\" great \" + 0.086*\" automatic \" + 0.085*\" applied \" + 0.084*\" offspring \" + 0.083*\" tech \" + 0.079*\" plus \" + 0.079*\" court \" + 0.077*\" joggers \" + 0.076*\" womens \" + 0.076*\" mid \" + 0.074*\" offer \" + 0.074*\" jordan \" + 0.073*\" store \" + 0.066*\" react \" + 0.065*\" blazer \" + 0.063*\" soon \" + 0.063*\" birthday \" + 0.062*\" half \"))\n"
     ]
    }
   ],
   "source": [
    "# Remove excluded words from the 'normalized_text' column\n",
    "excluded_words = ['bliblimegabrandfestival', 'ebay', 'ad', 'bids', 'united', 'phonewhatsapp', 'dm', 'gt', 'gtgtgt', 'core','pls','th','golf',\n",
    "                  'poshmark','shopmycloset','closet','added','home','earps','low','atc','use','select','options','polo','blue',\n",
    "                  'sickkicks','black','got','mary','want','product','school','goalkeeper','england','ready','pt','theyre'\n",
    "                  ]\n",
    "em['normalized_text'] = em['normalized_text'].apply(lambda x: ' '.join([word for word in x.split() if word.lower() not in excluded_words]))\n",
    "\n",
    "#Define TF-IDF vectorizer with updated text data\n",
    "tfidf = TfidfVectorizer(max_df=0.95, min_df=2, stop_words='english')\n",
    "\n",
    "# Fit transform the updated data\n",
    "dtm = tfidf.fit_transform(em['normalized_text'])\n",
    "dtm\n",
    "\n",
    "# Initialize NMF model\n",
    "from sklearn.decomposition import NMF\n",
    "nmf_model = NMF(n_components=10, random_state=1000)\n",
    "nmf_model.fit(dtm)\n",
    "\n",
    "# Function to display topics\n",
    "def display_topics(model, feature_names, num_top_words):\n",
    "    for index, topic in enumerate(model.components_):\n",
    "        print(f\"({index}, (\", end='')\n",
    "        top_features = [(feature_names[i], topic[i]) for i in topic.argsort()[-num_top_words:]]\n",
    "        print(' + '.join([f'{weight:.3f}*\" {word} \"' for word, weight in reversed(top_features)]), end='')\n",
    "        print(\"))\")\n",
    "\n",
    "# Display the topics\n",
    "num_top_words = 50\n",
    "feature_names = tfidf.get_feature_names_out()\n",
    "display_topics(nmf_model, feature_names, num_top_words)\n"
   ]
  },
  {
   "cell_type": "code",
   "execution_count": 65,
   "id": "85315a5b-9f80-43dd-ad75-a3ff401f0d1d",
   "metadata": {},
   "outputs": [
    {
     "data": {
      "text/plain": [
       "array([4, 4, 4, ..., 4, 4, 8], dtype=int64)"
      ]
     },
     "execution_count": 65,
     "metadata": {},
     "output_type": "execute_result"
    }
   ],
   "source": [
    "topic_results=nmf_model.transform(dtm)\n",
    "topic_results.argmax(axis=1)"
   ]
  },
  {
   "cell_type": "code",
   "execution_count": 66,
   "id": "12291732-48b0-4e58-96b4-c47fe91c87ba",
   "metadata": {},
   "outputs": [],
   "source": [
    "em['Topic']=topic_results.argmax(axis=1)"
   ]
  },
  {
   "cell_type": "code",
   "execution_count": 67,
   "id": "06fc8643-a410-4202-a808-c1ec9fcacb4f",
   "metadata": {},
   "outputs": [],
   "source": [
    "mytopic_dict={\n",
    "    0:'Size Availability',\n",
    "    1:'Size Availability', \n",
    "    2:'Discount and Promotion',\n",
    "    3:'Durability',\n",
    "    4:'Durability',\n",
    "    5:'Comfortability',\n",
    "    6:'Comfortability',\n",
    "    7:'Discount and Promotion',\n",
    "    8:'Price',\n",
    "    9:'Price'\n",
    "}\n",
    "\n",
    "em['Topic Label']=em['Topic'].map(mytopic_dict)"
   ]
  },
  {
   "cell_type": "code",
   "execution_count": 68,
   "id": "757f6893-d4d9-4ca2-9323-c728772880f4",
   "metadata": {},
   "outputs": [],
   "source": [
    "# Extract top ten keywords for each topic\n",
    "def get_top_keywords(model, feature_names, n_top_words):\n",
    "    top_keywords = {}\n",
    "    for idx, topic in enumerate(model.components_):\n",
    "        top_features = [feature_names[i] for i in topic.argsort()[-n_top_words:]]\n",
    "        top_keywords[idx] = ', '.join(reversed(top_features))\n",
    "    return top_keywords\n"
   ]
  },
  {
   "cell_type": "code",
   "execution_count": 69,
   "id": "5b091d39-d520-4e55-b026-676423b1cfa2",
   "metadata": {},
   "outputs": [
    {
     "name": "stdout",
     "output_type": "stream",
     "text": [
      "Aspect Counts:\n",
      "Topic Label\n",
      "Comfortability            11534\n",
      "Durability                10396\n",
      "Size Availability          5090\n",
      "Discount and Promotion     4123\n",
      "Price                      2872\n",
      "Name: count, dtype: int64\n"
     ]
    }
   ],
   "source": [
    "#DATA PREPROCESSING\n",
    "# Apply the function to extract top ten keywords\n",
    "top_keywords = get_top_keywords(nmf_model, tfidf.get_feature_names_out(), 10)\n",
    "\n",
    "# Add top ten keywords to the DataFrame\n",
    "em['Top Ten Keywords'] = em['Topic'].apply(lambda x: top_keywords[x])\n",
    "# Count the frequency of each aspect\n",
    "aspect_counts = em['Topic Label'].value_counts()\n",
    "\n",
    "# Display the aspect counts\n",
    "print(\"Aspect Counts:\")\n",
    "print(aspect_counts)"
   ]
  },
  {
   "cell_type": "code",
   "execution_count": 70,
   "id": "0ffa9016-593a-475e-8941-851a344ed67d",
   "metadata": {},
   "outputs": [
    {
     "data": {
      "text/html": [
       "<div>\n",
       "<style scoped>\n",
       "    .dataframe tbody tr th:only-of-type {\n",
       "        vertical-align: middle;\n",
       "    }\n",
       "\n",
       "    .dataframe tbody tr th {\n",
       "        vertical-align: top;\n",
       "    }\n",
       "\n",
       "    .dataframe thead th {\n",
       "        text-align: right;\n",
       "    }\n",
       "</style>\n",
       "<table border=\"1\" class=\"dataframe\">\n",
       "  <thead>\n",
       "    <tr style=\"text-align: right;\">\n",
       "      <th></th>\n",
       "      <th>Topic</th>\n",
       "      <th>Topic Label</th>\n",
       "      <th>Top Ten Keywords</th>\n",
       "    </tr>\n",
       "  </thead>\n",
       "  <tbody>\n",
       "    <tr>\n",
       "      <th>34010</th>\n",
       "      <td>4</td>\n",
       "      <td>Durability</td>\n",
       "      <td>shirt, nike, football, away, wearing, adidas, sell, like, arsenal, make</td>\n",
       "    </tr>\n",
       "    <tr>\n",
       "      <th>34011</th>\n",
       "      <td>1</td>\n",
       "      <td>Size Availability</td>\n",
       "      <td>check, listing, mens, sleeve, drifit, size, fit, xl, short, large</td>\n",
       "    </tr>\n",
       "    <tr>\n",
       "      <th>34012</th>\n",
       "      <td>4</td>\n",
       "      <td>Durability</td>\n",
       "      <td>shirt, nike, football, away, wearing, adidas, sell, like, arsenal, make</td>\n",
       "    </tr>\n",
       "    <tr>\n",
       "      <th>34013</th>\n",
       "      <td>4</td>\n",
       "      <td>Durability</td>\n",
       "      <td>shirt, nike, football, away, wearing, adidas, sell, like, arsenal, make</td>\n",
       "    </tr>\n",
       "    <tr>\n",
       "      <th>34014</th>\n",
       "      <td>8</td>\n",
       "      <td>Price</td>\n",
       "      <td>sale, lower, size, buy, nike, sb, fleece, joggers, tech, dunk</td>\n",
       "    </tr>\n",
       "  </tbody>\n",
       "</table>\n",
       "</div>"
      ],
      "text/plain": [
       "       Topic        Topic Label  \\\n",
       "34010      4         Durability   \n",
       "34011      1  Size Availability   \n",
       "34012      4         Durability   \n",
       "34013      4         Durability   \n",
       "34014      8              Price   \n",
       "\n",
       "                                                              Top Ten Keywords  \n",
       "34010  shirt, nike, football, away, wearing, adidas, sell, like, arsenal, make  \n",
       "34011        check, listing, mens, sleeve, drifit, size, fit, xl, short, large  \n",
       "34012  shirt, nike, football, away, wearing, adidas, sell, like, arsenal, make  \n",
       "34013  shirt, nike, football, away, wearing, adidas, sell, like, arsenal, make  \n",
       "34014            sale, lower, size, buy, nike, sb, fleece, joggers, tech, dunk  "
      ]
     },
     "execution_count": 70,
     "metadata": {},
     "output_type": "execute_result"
    }
   ],
   "source": [
    "pd.set_option('display.max_colwidth', None)\n",
    "# Display the modified DataFrame\n",
    "df = pd.DataFrame(em[['Topic', 'Topic Label', 'Top Ten Keywords']])\n",
    "df.tail(5)"
   ]
  },
  {
   "cell_type": "code",
   "execution_count": 71,
   "id": "a6e03b79-2401-420d-a783-55e40d951fc0",
   "metadata": {},
   "outputs": [
    {
     "data": {
      "text/html": [
       "<div>\n",
       "<style scoped>\n",
       "    .dataframe tbody tr th:only-of-type {\n",
       "        vertical-align: middle;\n",
       "    }\n",
       "\n",
       "    .dataframe tbody tr th {\n",
       "        vertical-align: top;\n",
       "    }\n",
       "\n",
       "    .dataframe thead th {\n",
       "        text-align: right;\n",
       "    }\n",
       "</style>\n",
       "<table border=\"1\" class=\"dataframe\">\n",
       "  <thead>\n",
       "    <tr style=\"text-align: right;\">\n",
       "      <th></th>\n",
       "      <th>Topic</th>\n",
       "      <th>Topic Label</th>\n",
       "      <th>Top Ten Keywords</th>\n",
       "    </tr>\n",
       "  </thead>\n",
       "  <tbody>\n",
       "  </tbody>\n",
       "</table>\n",
       "</div>"
      ],
      "text/plain": [
       "Empty DataFrame\n",
       "Columns: [Topic, Topic Label, Top Ten Keywords]\n",
       "Index: []"
      ]
     },
     "execution_count": 71,
     "metadata": {},
     "output_type": "execute_result"
    }
   ],
   "source": [
    "df.iloc[120910:120926]"
   ]
  },
  {
   "cell_type": "code",
   "execution_count": 72,
   "id": "8d1fe1a7-a673-4562-bbcd-80b7e1f4c5cc",
   "metadata": {},
   "outputs": [
    {
     "data": {
      "text/html": [
       "<div>\n",
       "<style scoped>\n",
       "    .dataframe tbody tr th:only-of-type {\n",
       "        vertical-align: middle;\n",
       "    }\n",
       "\n",
       "    .dataframe tbody tr th {\n",
       "        vertical-align: top;\n",
       "    }\n",
       "\n",
       "    .dataframe thead th {\n",
       "        text-align: right;\n",
       "    }\n",
       "</style>\n",
       "<table border=\"1\" class=\"dataframe\">\n",
       "  <thead>\n",
       "    <tr style=\"text-align: right;\">\n",
       "      <th></th>\n",
       "      <th>created_at</th>\n",
       "      <th>username</th>\n",
       "      <th>normalized_text</th>\n",
       "      <th>Topic Label</th>\n",
       "    </tr>\n",
       "  </thead>\n",
       "  <tbody>\n",
       "    <tr>\n",
       "      <th>34010</th>\n",
       "      <td>Wed Jan 18 18:45:35 +0000 2023</td>\n",
       "      <td>TicaGordita</td>\n",
       "      <td>bs wear nike shirt soliciting country gone absolutely nuts nuts</td>\n",
       "      <td>Durability</td>\n",
       "    </tr>\n",
       "    <tr>\n",
       "      <th>34011</th>\n",
       "      <td>Wed Jan 18 18:44:38 +0000 2023</td>\n",
       "      <td>Rustedrack</td>\n",
       "      <td>check listing nike mens shirt drifit uv protection orange size xl</td>\n",
       "      <td>Size Availability</td>\n",
       "    </tr>\n",
       "    <tr>\n",
       "      <th>34012</th>\n",
       "      <td>Wed Jan 18 18:44:10 +0000 2023</td>\n",
       "      <td>cynthia_collyer</td>\n",
       "      <td>absolutely pathetic nike adidas shirt would thing hire lawyers go mall us</td>\n",
       "      <td>Durability</td>\n",
       "    </tr>\n",
       "    <tr>\n",
       "      <th>34013</th>\n",
       "      <td>Wed Jan 18 18:39:14 +0000 2023</td>\n",
       "      <td>BTSwithOT7</td>\n",
       "      <td>im going bit less week amp stay seoul looking bts txt related spots kpop shopping areas top tourist spots amp interesting hidden experiences ie making customized nike seoul shirt nike store please send travel tips</td>\n",
       "      <td>Durability</td>\n",
       "    </tr>\n",
       "    <tr>\n",
       "      <th>34014</th>\n",
       "      <td>Wed Jan 18 18:31:22 +0000 2023</td>\n",
       "      <td>SneakerCheaper</td>\n",
       "      <td>nike acg floral shirt light bone amp iron ore extra cart already reduced deal nike sale sneakerhead kotd</td>\n",
       "      <td>Price</td>\n",
       "    </tr>\n",
       "  </tbody>\n",
       "</table>\n",
       "</div>"
      ],
      "text/plain": [
       "                           created_at         username  \\\n",
       "34010  Wed Jan 18 18:45:35 +0000 2023      TicaGordita   \n",
       "34011  Wed Jan 18 18:44:38 +0000 2023       Rustedrack   \n",
       "34012  Wed Jan 18 18:44:10 +0000 2023  cynthia_collyer   \n",
       "34013  Wed Jan 18 18:39:14 +0000 2023       BTSwithOT7   \n",
       "34014  Wed Jan 18 18:31:22 +0000 2023   SneakerCheaper   \n",
       "\n",
       "                                                                                                                                                                                                             normalized_text  \\\n",
       "34010                                                                                                                                                        bs wear nike shirt soliciting country gone absolutely nuts nuts   \n",
       "34011                                                                                                                                                      check listing nike mens shirt drifit uv protection orange size xl   \n",
       "34012                                                                                                                                              absolutely pathetic nike adidas shirt would thing hire lawyers go mall us   \n",
       "34013  im going bit less week amp stay seoul looking bts txt related spots kpop shopping areas top tourist spots amp interesting hidden experiences ie making customized nike seoul shirt nike store please send travel tips   \n",
       "34014                                                                                                               nike acg floral shirt light bone amp iron ore extra cart already reduced deal nike sale sneakerhead kotd   \n",
       "\n",
       "             Topic Label  \n",
       "34010         Durability  \n",
       "34011  Size Availability  \n",
       "34012         Durability  \n",
       "34013         Durability  \n",
       "34014              Price  "
      ]
     },
     "execution_count": 72,
     "metadata": {},
     "output_type": "execute_result"
    }
   ],
   "source": [
    "df = pd.DataFrame(em[['created_at','username','normalized_text', 'Topic Label']])\n",
    "df.tail()"
   ]
  },
  {
   "cell_type": "code",
   "execution_count": 73,
   "id": "76b4cb62-35e1-4908-9f81-a026584d2f5e",
   "metadata": {},
   "outputs": [],
   "source": [
    "# Save the updated DataFrame to a new CSV file\n",
    "df.to_csv('Nikedataset_aspects.csv', index=False)  # This will save the file in the same directory"
   ]
  },
  {
   "cell_type": "code",
   "execution_count": null,
   "id": "59e1a31d-bf36-484b-80fa-4cc1b0f184d5",
   "metadata": {},
   "outputs": [],
   "source": []
  }
 ],
 "metadata": {
  "kernelspec": {
   "display_name": "Python 3 (ipykernel)",
   "language": "python",
   "name": "python3"
  },
  "language_info": {
   "codemirror_mode": {
    "name": "ipython",
    "version": 3
   },
   "file_extension": ".py",
   "mimetype": "text/x-python",
   "name": "python",
   "nbconvert_exporter": "python",
   "pygments_lexer": "ipython3",
   "version": "3.12.2"
  }
 },
 "nbformat": 4,
 "nbformat_minor": 5
}
