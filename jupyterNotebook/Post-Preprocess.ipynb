{
 "cells": [
  {
   "cell_type": "code",
   "execution_count": 51,
   "id": "f7985063-b2ce-4c45-a44f-618054a535de",
   "metadata": {},
   "outputs": [
    {
     "name": "stdout",
     "output_type": "stream",
     "text": [
      "['walked street dogs rn nd saw guy nike shirt said freak big letters much thoughts flashed head'\n",
      " 'weve reached point referring dissatisfied customers haters customers expect shirt last washes jersey stitched tackle twill instead heat pressed silk screened print'\n",
      " 'fc barcelona say cannot close contract nike puma wants finance shirt must pay breakup amount nike'\n",
      " ...\n",
      " 'absolutely pathetic nike adidas shirt would thing hire lawyers go mall us'\n",
      " 'im going bit less week amp stay seoul looking bts txt related spots kpop shopping areas top tourist spots amp interesting hidden experiences ie making customized nike seoul shirt nike store please send travel tips'\n",
      " 'nike acg floral shirt light bone amp iron ore extra cart already reduced deal nike sale sneakerhead kotd']\n"
     ]
    }
   ],
   "source": [
    "import pandas as pd\n",
    "\n",
    "# Load the CSV file into a DataFrame\n",
    "df = pd.read_csv('Nikedataset_aspects_category.csv')\n",
    "\n",
    "# Replace 'your_column' with the name of the column you want to check\n",
    "distinct_values = df['normalized_text'].unique()\n",
    "\n",
    "# Print the distinct values\n",
    "print(distinct_values)\n"
   ]
  },
  {
   "cell_type": "code",
   "execution_count": 52,
   "id": "0d137e5c-bb93-47e8-840b-f723d899afe1",
   "metadata": {},
   "outputs": [
    {
     "name": "stdout",
     "output_type": "stream",
     "text": [
      "<class 'pandas.core.frame.DataFrame'>\n",
      "RangeIndex: 34015 entries, 0 to 34014\n",
      "Data columns (total 5 columns):\n",
      " #   Column           Non-Null Count  Dtype \n",
      "---  ------           --------------  ----- \n",
      " 0   created_at       34015 non-null  object\n",
      " 1   username         34014 non-null  object\n",
      " 2   normalized_text  34015 non-null  object\n",
      " 3   Topic Label      34015 non-null  object\n",
      " 4   Category         34015 non-null  object\n",
      "dtypes: object(5)\n",
      "memory usage: 1.3+ MB\n"
     ]
    }
   ],
   "source": [
    "df.info()"
   ]
  },
  {
   "cell_type": "markdown",
   "id": "d80a0661-dba4-4d8c-98c5-61d592f05592",
   "metadata": {},
   "source": [
    "# CHECK DUPLICATION"
   ]
  },
  {
   "cell_type": "code",
   "execution_count": 53,
   "id": "d266581b-5a26-48e5-8cc1-b659aab67e64",
   "metadata": {},
   "outputs": [
    {
     "name": "stdout",
     "output_type": "stream",
     "text": [
      "Number of duplicate rows based on 'normalized_text' column: 4310\n"
     ]
    }
   ],
   "source": [
    "import pandas as pd\n",
    "\n",
    "# Load the cleaned dataset\n",
    "data = pd.read_csv('Nikedataset_aspects_category.csv')\n",
    "\n",
    "# Count the number of duplicate rows based on the 'normalized_text' column\n",
    "num_duplicates = data.duplicated(subset=['normalized_text']).sum()\n",
    "\n",
    "print(\"Number of duplicate rows based on 'normalized_text' column:\", num_duplicates)\n"
   ]
  },
  {
   "cell_type": "code",
   "execution_count": 54,
   "id": "401622fc-5350-4cb2-ad72-f9de3966d51b",
   "metadata": {},
   "outputs": [],
   "source": [
    "# Remove duplicate entries in the 'normalized_text' column\n",
    "df.drop_duplicates(subset=['normalized_text'], keep='first', inplace=True)"
   ]
  },
  {
   "cell_type": "code",
   "execution_count": 55,
   "id": "a3af894e-e52f-4a29-8c06-f6e882dc7387",
   "metadata": {},
   "outputs": [
    {
     "data": {
      "text/html": [
       "<div>\n",
       "<style scoped>\n",
       "    .dataframe tbody tr th:only-of-type {\n",
       "        vertical-align: middle;\n",
       "    }\n",
       "\n",
       "    .dataframe tbody tr th {\n",
       "        vertical-align: top;\n",
       "    }\n",
       "\n",
       "    .dataframe thead th {\n",
       "        text-align: right;\n",
       "    }\n",
       "</style>\n",
       "<table border=\"1\" class=\"dataframe\">\n",
       "  <thead>\n",
       "    <tr style=\"text-align: right;\">\n",
       "      <th></th>\n",
       "      <th>created_at</th>\n",
       "      <th>username</th>\n",
       "      <th>normalized_text</th>\n",
       "      <th>Topic Label</th>\n",
       "      <th>Category</th>\n",
       "    </tr>\n",
       "  </thead>\n",
       "  <tbody>\n",
       "    <tr>\n",
       "      <th>count</th>\n",
       "      <td>29705</td>\n",
       "      <td>29704</td>\n",
       "      <td>29705</td>\n",
       "      <td>29705</td>\n",
       "      <td>29705</td>\n",
       "    </tr>\n",
       "    <tr>\n",
       "      <th>unique</th>\n",
       "      <td>29596</td>\n",
       "      <td>16463</td>\n",
       "      <td>29705</td>\n",
       "      <td>5</td>\n",
       "      <td>3</td>\n",
       "    </tr>\n",
       "    <tr>\n",
       "      <th>top</th>\n",
       "      <td>Fri Sep 22 06:42:31 +0000 2023</td>\n",
       "      <td>KicksDeals</td>\n",
       "      <td>walked street dogs rn nd saw guy nike shirt sa...</td>\n",
       "      <td>Comfortability</td>\n",
       "      <td>Other</td>\n",
       "    </tr>\n",
       "    <tr>\n",
       "      <th>freq</th>\n",
       "      <td>3</td>\n",
       "      <td>3017</td>\n",
       "      <td>1</td>\n",
       "      <td>10427</td>\n",
       "      <td>11324</td>\n",
       "    </tr>\n",
       "  </tbody>\n",
       "</table>\n",
       "</div>"
      ],
      "text/plain": [
       "                            created_at    username  \\\n",
       "count                            29705       29704   \n",
       "unique                           29596       16463   \n",
       "top     Fri Sep 22 06:42:31 +0000 2023  KicksDeals   \n",
       "freq                                 3        3017   \n",
       "\n",
       "                                          normalized_text     Topic Label  \\\n",
       "count                                               29705           29705   \n",
       "unique                                              29705               5   \n",
       "top     walked street dogs rn nd saw guy nike shirt sa...  Comfortability   \n",
       "freq                                                    1           10427   \n",
       "\n",
       "       Category  \n",
       "count     29705  \n",
       "unique        3  \n",
       "top       Other  \n",
       "freq      11324  "
      ]
     },
     "execution_count": 55,
     "metadata": {},
     "output_type": "execute_result"
    }
   ],
   "source": [
    "df.describe()"
   ]
  },
  {
   "cell_type": "code",
   "execution_count": 56,
   "id": "6a6fe9a1-d1b3-421f-b19a-48b579040dc1",
   "metadata": {},
   "outputs": [
    {
     "name": "stdout",
     "output_type": "stream",
     "text": [
      "<class 'pandas.core.frame.DataFrame'>\n",
      "Index: 29705 entries, 0 to 34014\n",
      "Data columns (total 5 columns):\n",
      " #   Column           Non-Null Count  Dtype \n",
      "---  ------           --------------  ----- \n",
      " 0   created_at       29705 non-null  object\n",
      " 1   username         29704 non-null  object\n",
      " 2   normalized_text  29705 non-null  object\n",
      " 3   Topic Label      29705 non-null  object\n",
      " 4   Category         29705 non-null  object\n",
      "dtypes: object(5)\n",
      "memory usage: 1.4+ MB\n"
     ]
    }
   ],
   "source": [
    "df.info()"
   ]
  },
  {
   "cell_type": "code",
   "execution_count": 57,
   "id": "d367077d-7549-4a18-a966-32c33e7ec35a",
   "metadata": {},
   "outputs": [
    {
     "data": {
      "text/plain": [
       "created_at         False\n",
       "username            True\n",
       "normalized_text    False\n",
       "Topic Label        False\n",
       "Category           False\n",
       "dtype: bool"
      ]
     },
     "execution_count": 57,
     "metadata": {},
     "output_type": "execute_result"
    }
   ],
   "source": [
    "#Check Null Values\n",
    "df.isnull().any()"
   ]
  },
  {
   "cell_type": "code",
   "execution_count": 58,
   "id": "26210160-da2f-4273-ba76-aa50f7a1d510",
   "metadata": {},
   "outputs": [
    {
     "data": {
      "text/html": [
       "<div>\n",
       "<style scoped>\n",
       "    .dataframe tbody tr th:only-of-type {\n",
       "        vertical-align: middle;\n",
       "    }\n",
       "\n",
       "    .dataframe tbody tr th {\n",
       "        vertical-align: top;\n",
       "    }\n",
       "\n",
       "    .dataframe thead th {\n",
       "        text-align: right;\n",
       "    }\n",
       "</style>\n",
       "<table border=\"1\" class=\"dataframe\">\n",
       "  <thead>\n",
       "    <tr style=\"text-align: right;\">\n",
       "      <th></th>\n",
       "      <th>created_at</th>\n",
       "      <th>username</th>\n",
       "      <th>normalized_text</th>\n",
       "      <th>Topic Label</th>\n",
       "      <th>Category</th>\n",
       "    </tr>\n",
       "  </thead>\n",
       "  <tbody>\n",
       "    <tr>\n",
       "      <th>count</th>\n",
       "      <td>29705</td>\n",
       "      <td>29704</td>\n",
       "      <td>29705</td>\n",
       "      <td>29705</td>\n",
       "      <td>29705</td>\n",
       "    </tr>\n",
       "    <tr>\n",
       "      <th>unique</th>\n",
       "      <td>29596</td>\n",
       "      <td>16463</td>\n",
       "      <td>29705</td>\n",
       "      <td>5</td>\n",
       "      <td>3</td>\n",
       "    </tr>\n",
       "    <tr>\n",
       "      <th>top</th>\n",
       "      <td>Fri Sep 22 06:42:31 +0000 2023</td>\n",
       "      <td>KicksDeals</td>\n",
       "      <td>walked street dogs rn nd saw guy nike shirt sa...</td>\n",
       "      <td>Comfortability</td>\n",
       "      <td>Other</td>\n",
       "    </tr>\n",
       "    <tr>\n",
       "      <th>freq</th>\n",
       "      <td>3</td>\n",
       "      <td>3017</td>\n",
       "      <td>1</td>\n",
       "      <td>10427</td>\n",
       "      <td>11324</td>\n",
       "    </tr>\n",
       "  </tbody>\n",
       "</table>\n",
       "</div>"
      ],
      "text/plain": [
       "                            created_at    username  \\\n",
       "count                            29705       29704   \n",
       "unique                           29596       16463   \n",
       "top     Fri Sep 22 06:42:31 +0000 2023  KicksDeals   \n",
       "freq                                 3        3017   \n",
       "\n",
       "                                          normalized_text     Topic Label  \\\n",
       "count                                               29705           29705   \n",
       "unique                                              29705               5   \n",
       "top     walked street dogs rn nd saw guy nike shirt sa...  Comfortability   \n",
       "freq                                                    1           10427   \n",
       "\n",
       "       Category  \n",
       "count     29705  \n",
       "unique        3  \n",
       "top       Other  \n",
       "freq      11324  "
      ]
     },
     "execution_count": 58,
     "metadata": {},
     "output_type": "execute_result"
    }
   ],
   "source": [
    "df.describe()"
   ]
  },
  {
   "cell_type": "code",
   "execution_count": 59,
   "id": "23f8958e-9599-4ac4-8ee8-3c572d86aad4",
   "metadata": {},
   "outputs": [],
   "source": [
    "# Assuming you want to remove rows only if 'text' column has null values\n",
    "data = df.dropna(subset=['normalized_text'])"
   ]
  },
  {
   "cell_type": "code",
   "execution_count": 29,
   "id": "2569a416-d556-4e7b-bd89-2b94e967d1c4",
   "metadata": {},
   "outputs": [],
   "source": [
    "# Assuming you want to remove rows only if 'sentiment' column has null values\n",
    "#data = df.dropna(subset=['sentiment'])"
   ]
  },
  {
   "cell_type": "code",
   "execution_count": 60,
   "id": "014bd5e2-5ef6-452f-ba1a-279cd177a8b0",
   "metadata": {},
   "outputs": [
    {
     "data": {
      "text/html": [
       "<div>\n",
       "<style scoped>\n",
       "    .dataframe tbody tr th:only-of-type {\n",
       "        vertical-align: middle;\n",
       "    }\n",
       "\n",
       "    .dataframe tbody tr th {\n",
       "        vertical-align: top;\n",
       "    }\n",
       "\n",
       "    .dataframe thead th {\n",
       "        text-align: right;\n",
       "    }\n",
       "</style>\n",
       "<table border=\"1\" class=\"dataframe\">\n",
       "  <thead>\n",
       "    <tr style=\"text-align: right;\">\n",
       "      <th></th>\n",
       "      <th>created_at</th>\n",
       "      <th>username</th>\n",
       "      <th>normalized_text</th>\n",
       "      <th>Topic Label</th>\n",
       "      <th>Category</th>\n",
       "    </tr>\n",
       "  </thead>\n",
       "  <tbody>\n",
       "    <tr>\n",
       "      <th>count</th>\n",
       "      <td>29705</td>\n",
       "      <td>29704</td>\n",
       "      <td>29705</td>\n",
       "      <td>29705</td>\n",
       "      <td>29705</td>\n",
       "    </tr>\n",
       "    <tr>\n",
       "      <th>unique</th>\n",
       "      <td>29596</td>\n",
       "      <td>16463</td>\n",
       "      <td>29705</td>\n",
       "      <td>5</td>\n",
       "      <td>3</td>\n",
       "    </tr>\n",
       "    <tr>\n",
       "      <th>top</th>\n",
       "      <td>Fri Sep 22 06:42:31 +0000 2023</td>\n",
       "      <td>KicksDeals</td>\n",
       "      <td>walked street dogs rn nd saw guy nike shirt sa...</td>\n",
       "      <td>Comfortability</td>\n",
       "      <td>Other</td>\n",
       "    </tr>\n",
       "    <tr>\n",
       "      <th>freq</th>\n",
       "      <td>3</td>\n",
       "      <td>3017</td>\n",
       "      <td>1</td>\n",
       "      <td>10427</td>\n",
       "      <td>11324</td>\n",
       "    </tr>\n",
       "  </tbody>\n",
       "</table>\n",
       "</div>"
      ],
      "text/plain": [
       "                            created_at    username  \\\n",
       "count                            29705       29704   \n",
       "unique                           29596       16463   \n",
       "top     Fri Sep 22 06:42:31 +0000 2023  KicksDeals   \n",
       "freq                                 3        3017   \n",
       "\n",
       "                                          normalized_text     Topic Label  \\\n",
       "count                                               29705           29705   \n",
       "unique                                              29705               5   \n",
       "top     walked street dogs rn nd saw guy nike shirt sa...  Comfortability   \n",
       "freq                                                    1           10427   \n",
       "\n",
       "       Category  \n",
       "count     29705  \n",
       "unique        3  \n",
       "top       Other  \n",
       "freq      11324  "
      ]
     },
     "execution_count": 60,
     "metadata": {},
     "output_type": "execute_result"
    }
   ],
   "source": [
    "data.describe()"
   ]
  },
  {
   "cell_type": "code",
   "execution_count": 61,
   "id": "a7265da7-4e7d-4389-899a-481e933f191e",
   "metadata": {},
   "outputs": [
    {
     "name": "stdout",
     "output_type": "stream",
     "text": [
      "<class 'pandas.core.frame.DataFrame'>\n",
      "Index: 29705 entries, 0 to 34014\n",
      "Data columns (total 5 columns):\n",
      " #   Column           Non-Null Count  Dtype \n",
      "---  ------           --------------  ----- \n",
      " 0   created_at       29705 non-null  object\n",
      " 1   username         29704 non-null  object\n",
      " 2   normalized_text  29705 non-null  object\n",
      " 3   Topic Label      29705 non-null  object\n",
      " 4   Category         29705 non-null  object\n",
      "dtypes: object(5)\n",
      "memory usage: 1.4+ MB\n"
     ]
    }
   ],
   "source": [
    "data.info()"
   ]
  },
  {
   "cell_type": "code",
   "execution_count": 62,
   "id": "8e4fecf6-95cd-4043-a1c0-39a85b61ad41",
   "metadata": {},
   "outputs": [
    {
     "data": {
      "text/plain": [
       "created_at         False\n",
       "username            True\n",
       "normalized_text    False\n",
       "Topic Label        False\n",
       "Category           False\n",
       "dtype: bool"
      ]
     },
     "execution_count": 62,
     "metadata": {},
     "output_type": "execute_result"
    }
   ],
   "source": [
    "data.isnull().any()"
   ]
  },
  {
   "cell_type": "code",
   "execution_count": 63,
   "id": "cd7e5535-360d-4084-8074-59b24fa4f3cb",
   "metadata": {},
   "outputs": [],
   "source": [
    "#EXPORT TO CSV\n",
    "data.to_csv('Nikedataset_aspects_category.csv', encoding='utf8', index=False)"
   ]
  },
  {
   "cell_type": "code",
   "execution_count": 64,
   "id": "28f223ef-b58b-4f85-86f0-c0122b5c8850",
   "metadata": {},
   "outputs": [
    {
     "name": "stdout",
     "output_type": "stream",
     "text": [
      "Distinct value counts in 'Topic Label' column:\n",
      "Topic Label\n",
      "Comfortability            10427\n",
      "Durability                 9082\n",
      "Discount and Promotion     3880\n",
      "Size Availability          3821\n",
      "Price                      2495\n",
      "Name: count, dtype: int64\n",
      "\n",
      "Distinct value counts in 'Category' column:\n",
      "Category\n",
      "Other       11324\n",
      "Clothing    10100\n",
      "Footwear     8281\n",
      "Name: count, dtype: int64\n"
     ]
    }
   ],
   "source": [
    "import pandas as pd\n",
    "\n",
    "# Load the CSV file\n",
    "df = pd.read_csv('Nikedataset_aspects_category.csv')\n",
    "\n",
    "# Count the occurrences of each distinct value in the specified columns\n",
    "topic_label_counts = df['Topic Label'].value_counts()\n",
    "category_counts = df['Category'].value_counts()\n",
    "#sentiment_counts = df['Sentiment'].value_counts()\n",
    "\n",
    "# Display the counts\n",
    "print(\"Distinct value counts in 'Topic Label' column:\")\n",
    "print(topic_label_counts)\n",
    "\n",
    "print(\"\\nDistinct value counts in 'Category' column:\")\n",
    "print(category_counts)\n",
    "\n",
    "#print(\"\\nDistinct value counts in 'Sentiment' column:\")\n",
    "#print(sentiment_counts)\n"
   ]
  },
  {
   "cell_type": "code",
   "execution_count": null,
   "id": "6b77fc1e-d981-4e65-9038-ba196caa1b64",
   "metadata": {},
   "outputs": [],
   "source": []
  }
 ],
 "metadata": {
  "kernelspec": {
   "display_name": "Python 3 (ipykernel)",
   "language": "python",
   "name": "python3"
  },
  "language_info": {
   "codemirror_mode": {
    "name": "ipython",
    "version": 3
   },
   "file_extension": ".py",
   "mimetype": "text/x-python",
   "name": "python",
   "nbconvert_exporter": "python",
   "pygments_lexer": "ipython3",
   "version": "3.12.2"
  }
 },
 "nbformat": 4,
 "nbformat_minor": 5
}
