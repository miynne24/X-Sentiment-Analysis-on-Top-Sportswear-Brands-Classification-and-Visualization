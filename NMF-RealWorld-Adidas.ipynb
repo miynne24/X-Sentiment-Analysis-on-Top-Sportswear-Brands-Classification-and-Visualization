{
 "cells": [
  {
   "cell_type": "code",
   "execution_count": 1,
   "id": "9a857863-0034-486e-aa03-fd6583779de8",
   "metadata": {},
   "outputs": [],
   "source": [
    "import pandas as pd\n",
    "em=pd.read_csv('Adidasdataset_cleaned.csv')\n",
    "from sklearn.feature_extraction.text import TfidfVectorizer\n",
    "tfidf=TfidfVectorizer(max_df=0.95,min_df=2,stop_words='english')"
   ]
  },
  {
   "cell_type": "code",
   "execution_count": 2,
   "id": "a806dca6-f177-4fa8-9b1f-dc166e03a331",
   "metadata": {},
   "outputs": [
    {
     "name": "stdout",
     "output_type": "stream",
     "text": [
      "(0, (2.884*\" available \" + 1.530*\" adidas \" + 1.450*\" sneakerscouts \" + 0.938*\" sizes \" + 0.901*\" retail \" + 0.871*\" samba \" + 0.839*\" ultraboost \" + 0.762*\" og \" + 0.752*\" white \" + 0.613*\" free \"))\n",
      "(1, (2.385*\" flash \" + 2.130*\" sale \" + 1.839*\" size \" + 0.603*\" adidas \" + 0.080*\" check \" + 0.052*\" price \" + 0.052*\" yeezy \" + 0.041*\" uk \" + 0.040*\" buy \" + 0.037*\" mens \"))\n",
      "(2, (2.118*\" shirt \" + 0.761*\" ends \" + 0.742*\" currently \" + 0.720*\" watchers \" + 0.714*\" football \" + 0.692*\" pm \" + 0.658*\" adidas \" + 0.612*\" home \" + 0.568*\" away \" + 0.408*\" nufc \"))\n",
      "(3, (1.615*\" shoes \" + 1.483*\" best \" + 1.238*\" adidas \" + 0.579*\" nike \" + 0.547*\" comfortable \" + 0.417*\" comfy \" + 0.387*\" like \" + 0.370*\" running \" + 0.288*\" look \" + 0.256*\" new \"))\n",
      "(4, (1.533*\" discount \" + 1.228*\" promo \" + 1.223*\" send \" + 1.140*\" delivery \" + 1.124*\" telegram \" + 1.010*\" nationwide \" + 0.544*\" trainers \" + 0.368*\" adidas \" + 0.273*\" slider \" + 0.259*\" code \"))\n"
     ]
    }
   ],
   "source": [
    "# Remove excluded words from the 'normalized_text' column\n",
    "excluded_words = ['bliblimegabrandfestival', 'ebay', 'ad', 'bids', 'united', 'phonewhatsapp', 'dm', 'gt', 'gtgtgt', 'core','pls','th',]\n",
    "em['normalized_text'] = em['normalized_text'].apply(lambda x: ' '.join([word for word in x.split() if word.lower() not in excluded_words]))\n",
    "\n",
    "# Define TF-IDF vectorizer with updated text data\n",
    "tfidf = TfidfVectorizer(max_df=0.95, min_df=2, stop_words='english')\n",
    "\n",
    "# Fit transform the updated data\n",
    "dtm = tfidf.fit_transform(em['normalized_text'])\n",
    "\n",
    "# Initialize NMF model\n",
    "from sklearn.decomposition import NMF\n",
    "nmf_model = NMF(n_components=5, random_state=1000)\n",
    "nmf_model.fit(dtm)\n",
    "\n",
    "# Function to display topics\n",
    "def display_topics(model, feature_names, num_top_words):\n",
    "    for index, topic in enumerate(model.components_):\n",
    "        print(f\"({index}, (\", end='')\n",
    "        top_features = [(feature_names[i], topic[i]) for i in topic.argsort()[-num_top_words:]]\n",
    "        print(' + '.join([f'{weight:.3f}*\" {word} \"' for word, weight in reversed(top_features)]), end='')\n",
    "        print(\"))\")\n",
    "\n",
    "# Display the topics\n",
    "num_top_words = 10\n",
    "feature_names = tfidf.get_feature_names_out()\n",
    "display_topics(nmf_model, feature_names, num_top_words)\n"
   ]
  },
  {
   "cell_type": "code",
   "execution_count": 3,
   "id": "85315a5b-9f80-43dd-ad75-a3ff401f0d1d",
   "metadata": {},
   "outputs": [
    {
     "data": {
      "text/plain": [
       "array([3, 3, 3, ..., 3, 3, 3], dtype=int64)"
      ]
     },
     "execution_count": 3,
     "metadata": {},
     "output_type": "execute_result"
    }
   ],
   "source": [
    "topic_results=nmf_model.transform(dtm)\n",
    "topic_results.argmax(axis=1)"
   ]
  },
  {
   "cell_type": "code",
   "execution_count": 4,
   "id": "12291732-48b0-4e58-96b4-c47fe91c87ba",
   "metadata": {},
   "outputs": [],
   "source": [
    "em['Topic']=topic_results.argmax(axis=1)"
   ]
  },
  {
   "cell_type": "code",
   "execution_count": 5,
   "id": "06fc8643-a410-4202-a808-c1ec9fcacb4f",
   "metadata": {},
   "outputs": [],
   "source": [
    "mytopic_dict={\n",
    "    0:'Size Availability',\n",
    "    1:'Price',\n",
    "    2:'Durability',\n",
    "    3:'Comfortability',\n",
    "    4:'Discount and Promotion'}\n",
    "\n",
    "em['Topic Label']=em['Topic'].map(mytopic_dict)"
   ]
  },
  {
   "cell_type": "code",
   "execution_count": 6,
   "id": "757f6893-d4d9-4ca2-9323-c728772880f4",
   "metadata": {},
   "outputs": [],
   "source": [
    "# Extract top ten keywords for each topic\n",
    "def get_top_keywords(model, feature_names, n_top_words):\n",
    "    top_keywords = {}\n",
    "    for idx, topic in enumerate(model.components_):\n",
    "        top_features = [feature_names[i] for i in topic.argsort()[-n_top_words:]]\n",
    "        top_keywords[idx] = ', '.join(reversed(top_features))\n",
    "    return top_keywords\n"
   ]
  },
  {
   "cell_type": "code",
   "execution_count": 7,
   "id": "5b091d39-d520-4e55-b026-676423b1cfa2",
   "metadata": {},
   "outputs": [
    {
     "name": "stdout",
     "output_type": "stream",
     "text": [
      "Aspect Counts:\n",
      "Topic Label\n",
      "Comfortability            8556\n",
      "Durability                4420\n",
      "Size Availability         4150\n",
      "Discount and Promotion    1372\n",
      "Price                     1311\n",
      "Name: count, dtype: int64\n"
     ]
    }
   ],
   "source": [
    "#DATA PREPROCESSING\n",
    "# Apply the function to extract top ten keywords\n",
    "top_keywords = get_top_keywords(nmf_model, tfidf.get_feature_names_out(), 10)\n",
    "\n",
    "# Add top ten keywords to the DataFrame\n",
    "em['Top Ten Keywords'] = em['Topic'].apply(lambda x: top_keywords[x])\n",
    "# Count the frequency of each aspect\n",
    "aspect_counts = em['Topic Label'].value_counts()\n",
    "\n",
    "# Display the aspect counts\n",
    "print(\"Aspect Counts:\")\n",
    "print(aspect_counts)"
   ]
  },
  {
   "cell_type": "code",
   "execution_count": 8,
   "id": "0ffa9016-593a-475e-8941-851a344ed67d",
   "metadata": {},
   "outputs": [
    {
     "data": {
      "text/html": [
       "<div>\n",
       "<style scoped>\n",
       "    .dataframe tbody tr th:only-of-type {\n",
       "        vertical-align: middle;\n",
       "    }\n",
       "\n",
       "    .dataframe tbody tr th {\n",
       "        vertical-align: top;\n",
       "    }\n",
       "\n",
       "    .dataframe thead th {\n",
       "        text-align: right;\n",
       "    }\n",
       "</style>\n",
       "<table border=\"1\" class=\"dataframe\">\n",
       "  <thead>\n",
       "    <tr style=\"text-align: right;\">\n",
       "      <th></th>\n",
       "      <th>Topic</th>\n",
       "      <th>Topic Label</th>\n",
       "      <th>Top Ten Keywords</th>\n",
       "    </tr>\n",
       "  </thead>\n",
       "  <tbody>\n",
       "    <tr>\n",
       "      <th>19804</th>\n",
       "      <td>3</td>\n",
       "      <td>Comfortability</td>\n",
       "      <td>shoes, best, adidas, nike, comfortable, comfy, like, running, look, new</td>\n",
       "    </tr>\n",
       "    <tr>\n",
       "      <th>19805</th>\n",
       "      <td>3</td>\n",
       "      <td>Comfortability</td>\n",
       "      <td>shoes, best, adidas, nike, comfortable, comfy, like, running, look, new</td>\n",
       "    </tr>\n",
       "    <tr>\n",
       "      <th>19806</th>\n",
       "      <td>3</td>\n",
       "      <td>Comfortability</td>\n",
       "      <td>shoes, best, adidas, nike, comfortable, comfy, like, running, look, new</td>\n",
       "    </tr>\n",
       "    <tr>\n",
       "      <th>19807</th>\n",
       "      <td>3</td>\n",
       "      <td>Comfortability</td>\n",
       "      <td>shoes, best, adidas, nike, comfortable, comfy, like, running, look, new</td>\n",
       "    </tr>\n",
       "    <tr>\n",
       "      <th>19808</th>\n",
       "      <td>3</td>\n",
       "      <td>Comfortability</td>\n",
       "      <td>shoes, best, adidas, nike, comfortable, comfy, like, running, look, new</td>\n",
       "    </tr>\n",
       "  </tbody>\n",
       "</table>\n",
       "</div>"
      ],
      "text/plain": [
       "       Topic     Topic Label  \\\n",
       "19804      3  Comfortability   \n",
       "19805      3  Comfortability   \n",
       "19806      3  Comfortability   \n",
       "19807      3  Comfortability   \n",
       "19808      3  Comfortability   \n",
       "\n",
       "                                                              Top Ten Keywords  \n",
       "19804  shoes, best, adidas, nike, comfortable, comfy, like, running, look, new  \n",
       "19805  shoes, best, adidas, nike, comfortable, comfy, like, running, look, new  \n",
       "19806  shoes, best, adidas, nike, comfortable, comfy, like, running, look, new  \n",
       "19807  shoes, best, adidas, nike, comfortable, comfy, like, running, look, new  \n",
       "19808  shoes, best, adidas, nike, comfortable, comfy, like, running, look, new  "
      ]
     },
     "execution_count": 8,
     "metadata": {},
     "output_type": "execute_result"
    }
   ],
   "source": [
    "pd.set_option('display.max_colwidth', None)\n",
    "# Display the modified DataFrame\n",
    "df = pd.DataFrame(em[['Topic', 'Topic Label', 'Top Ten Keywords']])\n",
    "df.tail(5)"
   ]
  },
  {
   "cell_type": "code",
   "execution_count": 9,
   "id": "a6e03b79-2401-420d-a783-55e40d951fc0",
   "metadata": {},
   "outputs": [
    {
     "data": {
      "text/html": [
       "<div>\n",
       "<style scoped>\n",
       "    .dataframe tbody tr th:only-of-type {\n",
       "        vertical-align: middle;\n",
       "    }\n",
       "\n",
       "    .dataframe tbody tr th {\n",
       "        vertical-align: top;\n",
       "    }\n",
       "\n",
       "    .dataframe thead th {\n",
       "        text-align: right;\n",
       "    }\n",
       "</style>\n",
       "<table border=\"1\" class=\"dataframe\">\n",
       "  <thead>\n",
       "    <tr style=\"text-align: right;\">\n",
       "      <th></th>\n",
       "      <th>Topic</th>\n",
       "      <th>Topic Label</th>\n",
       "      <th>Top Ten Keywords</th>\n",
       "    </tr>\n",
       "  </thead>\n",
       "  <tbody>\n",
       "  </tbody>\n",
       "</table>\n",
       "</div>"
      ],
      "text/plain": [
       "Empty DataFrame\n",
       "Columns: [Topic, Topic Label, Top Ten Keywords]\n",
       "Index: []"
      ]
     },
     "execution_count": 9,
     "metadata": {},
     "output_type": "execute_result"
    }
   ],
   "source": [
    "df.iloc[120910:120926]"
   ]
  },
  {
   "cell_type": "code",
   "execution_count": 10,
   "id": "8d1fe1a7-a673-4562-bbcd-80b7e1f4c5cc",
   "metadata": {},
   "outputs": [
    {
     "data": {
      "text/html": [
       "<div>\n",
       "<style scoped>\n",
       "    .dataframe tbody tr th:only-of-type {\n",
       "        vertical-align: middle;\n",
       "    }\n",
       "\n",
       "    .dataframe tbody tr th {\n",
       "        vertical-align: top;\n",
       "    }\n",
       "\n",
       "    .dataframe thead th {\n",
       "        text-align: right;\n",
       "    }\n",
       "</style>\n",
       "<table border=\"1\" class=\"dataframe\">\n",
       "  <thead>\n",
       "    <tr style=\"text-align: right;\">\n",
       "      <th></th>\n",
       "      <th>created_at</th>\n",
       "      <th>username</th>\n",
       "      <th>normalized_text</th>\n",
       "      <th>Topic Label</th>\n",
       "    </tr>\n",
       "  </thead>\n",
       "  <tbody>\n",
       "    <tr>\n",
       "      <th>0</th>\n",
       "      <td>Fri Sep 29 21:25:46 +0000 2023</td>\n",
       "      <td>alpha1906</td>\n",
       "      <td>nike trash adidas go favoriteexceptfor nike wrestling joints copped pandemic damn things comfortable hell</td>\n",
       "      <td>Comfortability</td>\n",
       "    </tr>\n",
       "    <tr>\n",
       "      <th>1</th>\n",
       "      <td>Fri Sep 29 17:05:47 +0000 2023</td>\n",
       "      <td>ElkCitySptswear</td>\n",
       "      <td>team new new look season take advantage adidas limited time pinch hitter promotion contact us details today</td>\n",
       "      <td>Comfortability</td>\n",
       "    </tr>\n",
       "    <tr>\n",
       "      <th>2</th>\n",
       "      <td>Fri Sep 29 14:18:11 +0000 2023</td>\n",
       "      <td>BeardedMangus</td>\n",
       "      <td>favorite breakfast shoes adidas derrick rose much comfortable court nike ive owned</td>\n",
       "      <td>Comfortability</td>\n",
       "    </tr>\n",
       "    <tr>\n",
       "      <th>3</th>\n",
       "      <td>Fri Sep 29 07:33:35 +0000 2023</td>\n",
       "      <td>TheJoelParadox</td>\n",
       "      <td>deal ladies youre suns fan adidas nmd r impact orange nmd r comfortable especially uses hopefully helpful someone</td>\n",
       "      <td>Comfortability</td>\n",
       "    </tr>\n",
       "    <tr>\n",
       "      <th>4</th>\n",
       "      <td>Fri Sep 29 04:15:11 +0000 2023</td>\n",
       "      <td>KicksDeals</td>\n",
       "      <td>select sizes available creamcarbongrey adidas harden vol free shipping buy promotion use code hoodieszn checkout</td>\n",
       "      <td>Size Availability</td>\n",
       "    </tr>\n",
       "  </tbody>\n",
       "</table>\n",
       "</div>"
      ],
      "text/plain": [
       "                       created_at         username  \\\n",
       "0  Fri Sep 29 21:25:46 +0000 2023        alpha1906   \n",
       "1  Fri Sep 29 17:05:47 +0000 2023  ElkCitySptswear   \n",
       "2  Fri Sep 29 14:18:11 +0000 2023    BeardedMangus   \n",
       "3  Fri Sep 29 07:33:35 +0000 2023   TheJoelParadox   \n",
       "4  Fri Sep 29 04:15:11 +0000 2023       KicksDeals   \n",
       "\n",
       "                                                                                                     normalized_text  \\\n",
       "0          nike trash adidas go favoriteexceptfor nike wrestling joints copped pandemic damn things comfortable hell   \n",
       "1        team new new look season take advantage adidas limited time pinch hitter promotion contact us details today   \n",
       "2                                 favorite breakfast shoes adidas derrick rose much comfortable court nike ive owned   \n",
       "3  deal ladies youre suns fan adidas nmd r impact orange nmd r comfortable especially uses hopefully helpful someone   \n",
       "4   select sizes available creamcarbongrey adidas harden vol free shipping buy promotion use code hoodieszn checkout   \n",
       "\n",
       "         Topic Label  \n",
       "0     Comfortability  \n",
       "1     Comfortability  \n",
       "2     Comfortability  \n",
       "3     Comfortability  \n",
       "4  Size Availability  "
      ]
     },
     "execution_count": 10,
     "metadata": {},
     "output_type": "execute_result"
    }
   ],
   "source": [
    "df = pd.DataFrame(em[['created_at','username','normalized_text', 'Topic Label']])\n",
    "df.head()"
   ]
  },
  {
   "cell_type": "code",
   "execution_count": 11,
   "id": "76b4cb62-35e1-4908-9f81-a026584d2f5e",
   "metadata": {},
   "outputs": [],
   "source": [
    "# Save the updated DataFrame to a new CSV file\n",
    "df.to_csv('Adidasdataset_aspects.csv', index=False)  # This will save the file in the same directory"
   ]
  },
  {
   "cell_type": "code",
   "execution_count": null,
   "id": "59e1a31d-bf36-484b-80fa-4cc1b0f184d5",
   "metadata": {},
   "outputs": [],
   "source": []
  }
 ],
 "metadata": {
  "kernelspec": {
   "display_name": "Python 3 (ipykernel)",
   "language": "python",
   "name": "python3"
  },
  "language_info": {
   "codemirror_mode": {
    "name": "ipython",
    "version": 3
   },
   "file_extension": ".py",
   "mimetype": "text/x-python",
   "name": "python",
   "nbconvert_exporter": "python",
   "pygments_lexer": "ipython3",
   "version": "3.12.2"
  }
 },
 "nbformat": 4,
 "nbformat_minor": 5
}
