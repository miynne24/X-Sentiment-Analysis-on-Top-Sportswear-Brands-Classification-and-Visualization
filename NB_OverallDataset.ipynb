{
 "cells": [
  {
   "cell_type": "code",
   "execution_count": 2,
   "id": "4103f2e2-b66f-485b-90be-0c328af90b8a",
   "metadata": {},
   "outputs": [],
   "source": [
    "import pandas as pd\n",
    "from sklearn.feature_extraction.text import CountVectorizer\n",
    "from sklearn.model_selection import train_test_split, GridSearchCV\n",
    "from sklearn.naive_bayes import MultinomialNB\n",
    "from sklearn.pipeline import Pipeline\n",
    "from sklearn.metrics import classification_report\n",
    "\n",
    "# Load the dataset\n",
    "df = pd.read_csv('Combined_Brands_Dataset_TB.csv')\n",
    "\n",
    "# Separate English and Indonesian datasets\n",
    "english_df = df[df['Language'] == 'en']\n",
    "indonesian_df = df[df['Language'] == 'id']\n",
    "\n",
    "# Split data into training and testing sets\n",
    "X_train_en, X_test_en, y_train_en, y_test_en = train_test_split(english_df['normalized_text'], english_df['Classification'],\n",
    "                                                                test_size=0.2, random_state=42)\n",
    "X_train_id, X_test_id, y_train_id, y_test_id = train_test_split(indonesian_df['normalized_text'], indonesian_df['Classification'],\n",
    "                                                                test_size=0.2, random_state=42)\n",
    "\n"
   ]
  },
  {
   "cell_type": "code",
   "execution_count": 9,
   "id": "fa892fbe-7d00-473b-98c0-3ff8a8cb02dd",
   "metadata": {},
   "outputs": [],
   "source": [
    "# Define a pipeline for text classification\n",
    "pipeline = Pipeline([\n",
    "    ('vect', CountVectorizer()),\n",
    "    ('clf', MultinomialNB())\n",
    "])\n",
    "\n",
    "# Define parameters for GridSearchCV\n",
    "parameters = {\n",
    "    'vect__ngram_range': [(1, 1), (1, 2)],\n",
    "    'vect__stop_words': [None, 'english'],\n",
    "}\n",
    "\n",
    "# Perform GridSearchCV for English dataset\n",
    "grid_search_en = GridSearchCV(pipeline, parameters, cv=5, n_jobs=-1)\n",
    "grid_search_en.fit(X_train_en, y_train_en)\n",
    "\n",
    "# Get the best Naive Bayes model for English dataset\n",
    "best_nb_en = grid_search_en.best_estimator_\n",
    "\n",
    "# Perform GridSearchCV for Indonesian dataset\n",
    "grid_search_id = GridSearchCV(pipeline, parameters, cv=5, n_jobs=-1)\n",
    "grid_search_id.fit(X_train_id, y_train_id)\n",
    "\n",
    "# Get the best Naive Bayes model for Indonesian dataset\n",
    "best_nb_id = grid_search_id.best_estimator_\n",
    "\n",
    "# Replace the lines where you assign values to 'NaiveBayesSentiment' columns with these lines:\n",
    "english_df.loc[:, 'NaiveBayesSentiment'] = best_nb_en.predict(english_df['normalized_text'])\n",
    "indonesian_df.loc[:, 'NaiveBayesSentiment'] = best_nb_id.predict(indonesian_df['normalized_text'])\n",
    "\n",
    "\n",
    "# Concatenate the English and Indonesian DataFrames\n",
    "result_df = pd.concat([english_df, indonesian_df])\n",
    "\n",
    "# Save the result DataFrame to a new CSV file\n",
    "result_df.to_csv('Combined_Brands_Dataset_NB.csv', index=False)\n"
   ]
  },
  {
   "cell_type": "code",
   "execution_count": 10,
   "id": "a94691af-7a8c-4753-958c-40fa9adc904b",
   "metadata": {},
   "outputs": [
    {
     "name": "stdout",
     "output_type": "stream",
     "text": [
      "Classification Report for English Dataset:\n",
      "              precision    recall  f1-score   support\n",
      "\n",
      "    Negative       0.70      0.72      0.71      9421\n",
      "     Neutral       0.89      0.63      0.74     13831\n",
      "    Positive       0.83      0.93      0.88     33025\n",
      "\n",
      "    accuracy                           0.82     56277\n",
      "   macro avg       0.81      0.76      0.78     56277\n",
      "weighted avg       0.82      0.82      0.81     56277\n",
      "\n",
      "Classification Report for Indonesian Dataset:\n",
      "              precision    recall  f1-score   support\n",
      "\n",
      "    Negative       0.99      0.72      0.84       216\n",
      "     Neutral       0.95      0.98      0.97      2060\n",
      "    Positive       0.94      0.92      0.93       801\n",
      "\n",
      "    accuracy                           0.95      3077\n",
      "   macro avg       0.96      0.88      0.91      3077\n",
      "weighted avg       0.95      0.95      0.95      3077\n",
      "\n"
     ]
    }
   ],
   "source": [
    "# Print classification reports\n",
    "print(\"Classification Report for English Dataset:\")\n",
    "print(classification_report(english_df['Classification'], english_df['NaiveBayesSentiment']))\n",
    "\n",
    "print(\"Classification Report for Indonesian Dataset:\")\n",
    "print(classification_report(indonesian_df['Classification'], indonesian_df['NaiveBayesSentiment']))"
   ]
  },
  {
   "cell_type": "code",
   "execution_count": 6,
   "id": "38978fea-e9d1-4cf0-94d7-dea99fec7dd3",
   "metadata": {},
   "outputs": [
    {
     "name": "stdout",
     "output_type": "stream",
     "text": [
      "Confusion Matrix for English Dataset:\n",
      "[[ 6787   468  2166]\n",
      " [ 1031  8695  4105]\n",
      " [ 1815   564 30646]]\n",
      "\n",
      "Confusion Matrix for Indonesian Dataset:\n",
      "[[ 156   41   19]\n",
      " [   1 2028   31]\n",
      " [   0   61  740]]\n"
     ]
    }
   ],
   "source": [
    "from sklearn.metrics import confusion_matrix\n",
    "\n",
    "# Confusion matrix for English dataset\n",
    "conf_matrix_en = confusion_matrix(english_df['Classification'], english_df['NaiveBayesSentiment'])\n",
    "print(\"Confusion Matrix for English Dataset:\")\n",
    "print(conf_matrix_en)\n",
    "\n",
    "# Confusion matrix for Indonesian dataset\n",
    "conf_matrix_id = confusion_matrix(indonesian_df['Classification'], indonesian_df['NaiveBayesSentiment'])\n",
    "print(\"\\nConfusion Matrix for Indonesian Dataset:\")\n",
    "print(conf_matrix_id)\n",
    "\n"
   ]
  },
  {
   "cell_type": "code",
   "execution_count": 7,
   "id": "2eefb93d-2fc6-4dea-9752-7fa9f636afa4",
   "metadata": {},
   "outputs": [
    {
     "name": "stdout",
     "output_type": "stream",
     "text": [
      "\n",
      "Value Counts for NaiveBayesSentiment in English Dataset:\n",
      "NaiveBayesSentiment\n",
      "Positive    36917\n",
      "Neutral      9727\n",
      "Negative     9633\n",
      "Name: count, dtype: int64\n",
      "\n",
      "Value Counts for NaiveBayesSentiment in Indonesian Dataset:\n",
      "NaiveBayesSentiment\n",
      "Neutral     2130\n",
      "Positive     790\n",
      "Negative     157\n",
      "Name: count, dtype: int64\n"
     ]
    }
   ],
   "source": [
    "# Count the values of NaiveBayesSentiment for English dataset\n",
    "sentiment_counts_en = english_df['NaiveBayesSentiment'].value_counts()\n",
    "print(\"\\nValue Counts for NaiveBayesSentiment in English Dataset:\")\n",
    "print(sentiment_counts_en)\n",
    "\n",
    "# Count the values of NaiveBayesSentiment for Indonesian dataset\n",
    "sentiment_counts_id = indonesian_df['NaiveBayesSentiment'].value_counts()\n",
    "print(\"\\nValue Counts for NaiveBayesSentiment in Indonesian Dataset:\")\n",
    "print(sentiment_counts_id)\n"
   ]
  },
  {
   "cell_type": "code",
   "execution_count": null,
   "id": "2731dadd-6ef3-4798-994f-1bc5c27ccbf0",
   "metadata": {},
   "outputs": [],
   "source": []
  }
 ],
 "metadata": {
  "kernelspec": {
   "display_name": "Python 3 (ipykernel)",
   "language": "python",
   "name": "python3"
  },
  "language_info": {
   "codemirror_mode": {
    "name": "ipython",
    "version": 3
   },
   "file_extension": ".py",
   "mimetype": "text/x-python",
   "name": "python",
   "nbconvert_exporter": "python",
   "pygments_lexer": "ipython3",
   "version": "3.12.2"
  }
 },
 "nbformat": 4,
 "nbformat_minor": 5
}
