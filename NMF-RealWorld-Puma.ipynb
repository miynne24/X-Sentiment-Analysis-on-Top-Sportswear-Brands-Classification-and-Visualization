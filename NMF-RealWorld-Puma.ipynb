{
 "cells": [
  {
   "cell_type": "code",
   "execution_count": 29,
   "id": "9a857863-0034-486e-aa03-fd6583779de8",
   "metadata": {},
   "outputs": [],
   "source": [
    "import pandas as pd\n",
    "em=pd.read_csv('Pumadataset_cleaned.csv')\n",
    "from sklearn.feature_extraction.text import TfidfVectorizer\n",
    "tfidf=TfidfVectorizer(max_df=0.95,min_df=2,stop_words='english')"
   ]
  },
  {
   "cell_type": "code",
   "execution_count": 35,
   "id": "a806dca6-f177-4fa8-9b1f-dc166e03a331",
   "metadata": {},
   "outputs": [
    {
     "name": "stdout",
     "output_type": "stream",
     "text": [
      "(0, (5.861*\" shirt \" + 2.208*\" puma \" + 0.596*\" away \" + 0.445*\" look \" + 0.441*\" city \" + 0.387*\" short \" + 0.344*\" season \" + 0.332*\" sleeve \" + 0.300*\" logo \" + 0.283*\" mil \"))\n",
      "(1, (1.684*\" dapper \" + 1.683*\" varsity \" + 1.628*\" green \" + 1.542*\" suede \" + 0.871*\" available \" + 0.771*\" sneakerscouts \" + 0.346*\" puma \" + 0.138*\" retail \" + 0.030*\" xl \" + 0.030*\" athletic \"))\n",
      "(2, (3.111*\" shoe \" + 0.918*\" puma \" + 0.345*\" running \" + 0.196*\" sport \" + 0.134*\" flat \" + 0.123*\" starting \" + 0.110*\" pair \" + 0.109*\" wear \" + 0.107*\" link \" + 0.100*\" basketball \"))\n",
      "(3, (3.270*\" best \" + 0.658*\" puma \" + 0.194*\" boot \" + 0.117*\" footwear \" + 0.081*\" car \" + 0.078*\" song \" + 0.076*\" lpgatour \" + 0.076*\" womensgolf \" + 0.069*\" player \" + 0.068*\" time \"))\n",
      "(4, (1.461*\" buy \" + 1.459*\" offer \" + 1.421*\" fashion \" + 1.367*\" golfapparel \" + 1.308*\" pgatour \" + 0.670*\" fusion \" + 0.648*\" ignite \" + 0.347*\" puma \" + 0.339*\" proadapt \" + 0.338*\" alphacat \"))\n",
      "(5, (1.914*\" deliver \" + 1.874*\" countrywide \" + 1.832*\" price \" + 0.934*\" available \" + 0.876*\" suede \" + 0.275*\" casual \" + 0.261*\" puma \" + 0.260*\" jogger \" + 0.135*\" assorted \" + 0.105*\" cal \"))\n",
      "(6, (1.171*\" watcher \" + 1.166*\" bid \" + 1.165*\" currently \" + 1.147*\" end \" + 1.086*\" swfc \" + 1.010*\" pm \" + 0.449*\" shirt \" + 0.368*\" sanderson \" + 0.357*\" sat \" + 0.356*\" vintage \"))\n",
      "(7, (2.902*\" size \" + 0.383*\" puma \" + 0.265*\" xl \" + 0.237*\" delivery \" + 0.232*\" large \" + 0.172*\" small \" + 0.167*\" medium \" + 0.166*\" mtaani \" + 0.164*\" service \" + 0.164*\" jersey \"))\n",
      "(8, (2.749*\" available \" + 1.263*\" store \" + 0.948*\" puma \" + 0.768*\" online \" + 0.457*\" shop \" + 0.361*\" fenty \" + 0.214*\" instore \" + 0.197*\" collection \" + 0.187*\" creeper \" + 0.187*\" delivery \"))\n",
      "(9, (2.945*\" check \" + 1.653*\" rm \" + 0.857*\" shopee \" + 0.775*\" running \" + 0.620*\" unisex \" + 0.488*\" white \" + 0.288*\" discount \" + 0.265*\" lazada \" + 0.260*\" sleeve \" + 0.254*\" price \"))\n",
      "(10, (2.119*\" nike \" + 1.928*\" adidas \" + 0.516*\" brand \" + 0.342*\" kasut \" + 0.341*\" balance \" + 0.341*\" expensive \" + 0.336*\" reebok \" + 0.242*\" puma \" + 0.211*\" offer \" + 0.184*\" sponsor \"))\n",
      "(11, (1.882*\" sepatu \" + 1.231*\" original \" + 0.766*\" murah \" + 0.636*\" wanita \" + 0.633*\" pria \" + 0.395*\" harga \" + 0.384*\" rp \" + 0.317*\" ralph \" + 0.315*\" sampson \" + 0.304*\" cek \"))\n",
      "(12, (2.789*\" comfy \" + 0.432*\" puma \" + 0.381*\" look \" + 0.331*\" pair \" + 0.227*\" super \" + 0.196*\" really \" + 0.192*\" expensive \" + 0.185*\" im \" + 0.158*\" boot \" + 0.147*\" good \"))\n",
      "(13, (2.803*\" sneaker \" + 0.938*\" soft \" + 0.605*\" uk \" + 0.552*\" foam \" + 0.317*\" puma \" + 0.259*\" white \" + 0.211*\" usd \" + 0.207*\" comfort \" + 0.203*\" casual \" + 0.198*\" onlineshopping \"))\n",
      "(14, (2.587*\" start \" + 1.030*\" ajio \" + 0.790*\" reebok \" + 0.353*\" adidas \" + 0.273*\" shoe \" + 0.229*\" puma \" + 0.148*\" link \" + 0.110*\" offer \" + 0.097*\" preparing \" + 0.097*\" season \"))\n"
     ]
    }
   ],
   "source": [
    "# Remove excluded words from the 'normalized_text' column\n",
    "excluded_words = ['bliblimegabrandfestival', 'ebay', 'ad', 'bids', 'united', 'phonewhatsapp', 'dm', 'gt', 'gtgtgt', 'core','pls','th','golf',\n",
    "                  'poshmark','shopmycloset','closet','added','home','earps','dunk','low','atc','use','select','options','polo','blue',\n",
    "                  'sickkicks','black','got','mary','want','product','school','goalkeeper','england','ready','pt','theyre',\n",
    "                  'men', 'woman', 'hombre', 'zapatos', 'listing', 'football', 'kit', 'king', 'like', 'year', 'team', 'make',\n",
    "                  'new', 'upto', 'amp', 'love', 'world', 'friend', 'day', 'play', 'deal', 'ford', 'sheffield', 'wednesday',\n",
    "                  'ampxampxfampxampx','ampxampxampxampxampxfampxampxeampx','ampxampxampxfampxdampxf','sunsandsampsportslevelshoesninjapumasssportssssports'\n",
    "                  'shopee','shopeemy'\n",
    "]\n",
    "\n",
    "em['lemmatized_text'] = em['lemmatized_text'].apply(lambda x: ' '.join([word for word in x.split() if word.lower() not in excluded_words]))\n",
    "\n",
    "#Define TF-IDF vectorizer with updated text data\n",
    "tfidf = TfidfVectorizer(max_df=0.95, min_df=2, stop_words='english')\n",
    "\n",
    "# Fit transform the updated data\n",
    "dtm = tfidf.fit_transform(em['lemmatized_text'])\n",
    "dtm\n",
    "\n",
    "# Initialize NMF model\n",
    "from sklearn.decomposition import NMF\n",
    "nmf_model = NMF(n_components=15, random_state=1000)\n",
    "nmf_model.fit(dtm)\n",
    "\n",
    "# Function to display topics\n",
    "def display_topics(model, feature_names, num_top_words):\n",
    "    for index, topic in enumerate(model.components_):\n",
    "        print(f\"({index}, (\", end='')\n",
    "        top_features = [(feature_names[i], topic[i]) for i in topic.argsort()[-num_top_words:]]\n",
    "        print(' + '.join([f'{weight:.3f}*\" {word} \"' for word, weight in reversed(top_features)]), end='')\n",
    "        print(\"))\")\n",
    "\n",
    "# Display the topics\n",
    "num_top_words = 10\n",
    "feature_names = tfidf.get_feature_names_out()\n",
    "display_topics(nmf_model, feature_names, num_top_words)\n"
   ]
  },
  {
   "cell_type": "code",
   "execution_count": 38,
   "id": "85315a5b-9f80-43dd-ad75-a3ff401f0d1d",
   "metadata": {},
   "outputs": [
    {
     "data": {
      "text/plain": [
       "array([ 8, 13,  8, ...,  9,  9,  8], dtype=int64)"
      ]
     },
     "execution_count": 38,
     "metadata": {},
     "output_type": "execute_result"
    }
   ],
   "source": [
    "topic_results=nmf_model.transform(dtm)\n",
    "topic_results.argmax(axis=1)"
   ]
  },
  {
   "cell_type": "code",
   "execution_count": 39,
   "id": "12291732-48b0-4e58-96b4-c47fe91c87ba",
   "metadata": {},
   "outputs": [],
   "source": [
    "em['Topic']=topic_results.argmax(axis=1)"
   ]
  },
  {
   "cell_type": "code",
   "execution_count": 43,
   "id": "06fc8643-a410-4202-a808-c1ec9fcacb4f",
   "metadata": {},
   "outputs": [],
   "source": [
    "mytopic_dict={\n",
    "    0:'Comfortability',\n",
    "    1:'Durability',\n",
    "    2:'Durability',\n",
    "    3:'Durability',\n",
    "    4:'Discount and Promotion',\n",
    "    \n",
    "    5:'Price',\n",
    "    6:'Discount and Promotion',\n",
    "    7:'Size Availability',\n",
    "    8:'Size Availability',\n",
    "    9:'Price',\n",
    "\n",
    "    10:'Price',\n",
    "    11:'Price',\n",
    "    12:'Comfortability',\n",
    "    13:'Comfortability',\n",
    "    14:'Discount and Promotion'\n",
    "}\n",
    "\n",
    "em['Topic Label']=em['Topic'].map(mytopic_dict)"
   ]
  },
  {
   "cell_type": "code",
   "execution_count": 44,
   "id": "757f6893-d4d9-4ca2-9323-c728772880f4",
   "metadata": {},
   "outputs": [],
   "source": [
    "# Extract top ten keywords for each topic\n",
    "def get_top_keywords(model, feature_names, n_top_words):\n",
    "    top_keywords = {}\n",
    "    for idx, topic in enumerate(model.components_):\n",
    "        top_features = [feature_names[i] for i in topic.argsort()[-n_top_words:]]\n",
    "        top_keywords[idx] = ', '.join(reversed(top_features))\n",
    "    return top_keywords\n"
   ]
  },
  {
   "cell_type": "code",
   "execution_count": 45,
   "id": "5b091d39-d520-4e55-b026-676423b1cfa2",
   "metadata": {},
   "outputs": [
    {
     "name": "stdout",
     "output_type": "stream",
     "text": [
      "Aspect Counts:\n",
      "Topic Label\n",
      "Comfortability            3569\n",
      "Durability                3285\n",
      "Size Availability         3081\n",
      "Price                     2603\n",
      "Discount and Promotion    1293\n",
      "Name: count, dtype: int64\n"
     ]
    }
   ],
   "source": [
    "#DATA PREPROCESSING\n",
    "# Apply the function to extract top ten keywords\n",
    "top_keywords = get_top_keywords(nmf_model, tfidf.get_feature_names_out(), 10)\n",
    "\n",
    "# Add top ten keywords to the DataFrame\n",
    "em['Top Ten Keywords'] = em['Topic'].apply(lambda x: top_keywords[x])\n",
    "# Count the frequency of each aspect\n",
    "aspect_counts = em['Topic Label'].value_counts()\n",
    "\n",
    "# Display the aspect counts\n",
    "print(\"Aspect Counts:\")\n",
    "print(aspect_counts)"
   ]
  },
  {
   "cell_type": "code",
   "execution_count": 46,
   "id": "0ffa9016-593a-475e-8941-851a344ed67d",
   "metadata": {},
   "outputs": [
    {
     "data": {
      "text/html": [
       "<div>\n",
       "<style scoped>\n",
       "    .dataframe tbody tr th:only-of-type {\n",
       "        vertical-align: middle;\n",
       "    }\n",
       "\n",
       "    .dataframe tbody tr th {\n",
       "        vertical-align: top;\n",
       "    }\n",
       "\n",
       "    .dataframe thead th {\n",
       "        text-align: right;\n",
       "    }\n",
       "</style>\n",
       "<table border=\"1\" class=\"dataframe\">\n",
       "  <thead>\n",
       "    <tr style=\"text-align: right;\">\n",
       "      <th></th>\n",
       "      <th>Topic</th>\n",
       "      <th>Topic Label</th>\n",
       "      <th>Top Ten Keywords</th>\n",
       "    </tr>\n",
       "  </thead>\n",
       "  <tbody>\n",
       "    <tr>\n",
       "      <th>13826</th>\n",
       "      <td>9</td>\n",
       "      <td>Price</td>\n",
       "      <td>check, rm, shopee, running, unisex, white, discount, lazada, sleeve, price</td>\n",
       "    </tr>\n",
       "    <tr>\n",
       "      <th>13827</th>\n",
       "      <td>9</td>\n",
       "      <td>Price</td>\n",
       "      <td>check, rm, shopee, running, unisex, white, discount, lazada, sleeve, price</td>\n",
       "    </tr>\n",
       "    <tr>\n",
       "      <th>13828</th>\n",
       "      <td>9</td>\n",
       "      <td>Price</td>\n",
       "      <td>check, rm, shopee, running, unisex, white, discount, lazada, sleeve, price</td>\n",
       "    </tr>\n",
       "    <tr>\n",
       "      <th>13829</th>\n",
       "      <td>9</td>\n",
       "      <td>Price</td>\n",
       "      <td>check, rm, shopee, running, unisex, white, discount, lazada, sleeve, price</td>\n",
       "    </tr>\n",
       "    <tr>\n",
       "      <th>13830</th>\n",
       "      <td>8</td>\n",
       "      <td>Size Availability</td>\n",
       "      <td>available, store, puma, online, shop, fenty, instore, collection, creeper, delivery</td>\n",
       "    </tr>\n",
       "  </tbody>\n",
       "</table>\n",
       "</div>"
      ],
      "text/plain": [
       "       Topic        Topic Label  \\\n",
       "13826      9              Price   \n",
       "13827      9              Price   \n",
       "13828      9              Price   \n",
       "13829      9              Price   \n",
       "13830      8  Size Availability   \n",
       "\n",
       "                                                                          Top Ten Keywords  \n",
       "13826           check, rm, shopee, running, unisex, white, discount, lazada, sleeve, price  \n",
       "13827           check, rm, shopee, running, unisex, white, discount, lazada, sleeve, price  \n",
       "13828           check, rm, shopee, running, unisex, white, discount, lazada, sleeve, price  \n",
       "13829           check, rm, shopee, running, unisex, white, discount, lazada, sleeve, price  \n",
       "13830  available, store, puma, online, shop, fenty, instore, collection, creeper, delivery  "
      ]
     },
     "execution_count": 46,
     "metadata": {},
     "output_type": "execute_result"
    }
   ],
   "source": [
    "pd.set_option('display.max_colwidth', None)\n",
    "# Display the modified DataFrame\n",
    "df = pd.DataFrame(em[['Topic', 'Topic Label', 'Top Ten Keywords']])\n",
    "df.tail(5)"
   ]
  },
  {
   "cell_type": "code",
   "execution_count": 47,
   "id": "a6e03b79-2401-420d-a783-55e40d951fc0",
   "metadata": {},
   "outputs": [
    {
     "data": {
      "text/html": [
       "<div>\n",
       "<style scoped>\n",
       "    .dataframe tbody tr th:only-of-type {\n",
       "        vertical-align: middle;\n",
       "    }\n",
       "\n",
       "    .dataframe tbody tr th {\n",
       "        vertical-align: top;\n",
       "    }\n",
       "\n",
       "    .dataframe thead th {\n",
       "        text-align: right;\n",
       "    }\n",
       "</style>\n",
       "<table border=\"1\" class=\"dataframe\">\n",
       "  <thead>\n",
       "    <tr style=\"text-align: right;\">\n",
       "      <th></th>\n",
       "      <th>Topic</th>\n",
       "      <th>Topic Label</th>\n",
       "      <th>Top Ten Keywords</th>\n",
       "    </tr>\n",
       "  </thead>\n",
       "  <tbody>\n",
       "  </tbody>\n",
       "</table>\n",
       "</div>"
      ],
      "text/plain": [
       "Empty DataFrame\n",
       "Columns: [Topic, Topic Label, Top Ten Keywords]\n",
       "Index: []"
      ]
     },
     "execution_count": 47,
     "metadata": {},
     "output_type": "execute_result"
    }
   ],
   "source": [
    "df.iloc[120910:120926]"
   ]
  },
  {
   "cell_type": "code",
   "execution_count": 48,
   "id": "8d1fe1a7-a673-4562-bbcd-80b7e1f4c5cc",
   "metadata": {},
   "outputs": [
    {
     "data": {
      "text/html": [
       "<div>\n",
       "<style scoped>\n",
       "    .dataframe tbody tr th:only-of-type {\n",
       "        vertical-align: middle;\n",
       "    }\n",
       "\n",
       "    .dataframe tbody tr th {\n",
       "        vertical-align: top;\n",
       "    }\n",
       "\n",
       "    .dataframe thead th {\n",
       "        text-align: right;\n",
       "    }\n",
       "</style>\n",
       "<table border=\"1\" class=\"dataframe\">\n",
       "  <thead>\n",
       "    <tr style=\"text-align: right;\">\n",
       "      <th></th>\n",
       "      <th>created_at</th>\n",
       "      <th>username</th>\n",
       "      <th>lemmatized_text</th>\n",
       "      <th>Topic Label</th>\n",
       "    </tr>\n",
       "  </thead>\n",
       "  <tbody>\n",
       "    <tr>\n",
       "      <th>13826</th>\n",
       "      <td>Tue Nov 14 03:42:37 +0000 2023</td>\n",
       "      <td>malaysiandaily</td>\n",
       "      <td>check puma unisex redeem profoam running shoe rm get shopee</td>\n",
       "      <td>Price</td>\n",
       "    </tr>\n",
       "    <tr>\n",
       "      <th>13827</th>\n",
       "      <td>Tue Nov 14 03:42:26 +0000 2023</td>\n",
       "      <td>malaysiandaily</td>\n",
       "      <td>check puma carina leather shoe white rm get shopee</td>\n",
       "      <td>Price</td>\n",
       "    </tr>\n",
       "    <tr>\n",
       "      <th>13828</th>\n",
       "      <td>Tue Nov 14 03:42:15 +0000 2023</td>\n",
       "      <td>malaysiandaily</td>\n",
       "      <td>check puma retaliate tongue running shoe red rm get shopee</td>\n",
       "      <td>Price</td>\n",
       "    </tr>\n",
       "    <tr>\n",
       "      <th>13829</th>\n",
       "      <td>Tue Nov 14 03:42:00 +0000 2023</td>\n",
       "      <td>malaysiandaily</td>\n",
       "      <td>check puma retaliate tongue running shoe rm get shopee</td>\n",
       "      <td>Price</td>\n",
       "    </tr>\n",
       "    <tr>\n",
       "      <th>13830</th>\n",
       "      <td>Mon Nov 13 22:51:48 +0000 2023</td>\n",
       "      <td>JessiJones3701</td>\n",
       "      <td>ever aware good future weapon whose</td>\n",
       "      <td>Size Availability</td>\n",
       "    </tr>\n",
       "  </tbody>\n",
       "</table>\n",
       "</div>"
      ],
      "text/plain": [
       "                           created_at        username  \\\n",
       "13826  Tue Nov 14 03:42:37 +0000 2023  malaysiandaily   \n",
       "13827  Tue Nov 14 03:42:26 +0000 2023  malaysiandaily   \n",
       "13828  Tue Nov 14 03:42:15 +0000 2023  malaysiandaily   \n",
       "13829  Tue Nov 14 03:42:00 +0000 2023  malaysiandaily   \n",
       "13830  Mon Nov 13 22:51:48 +0000 2023  JessiJones3701   \n",
       "\n",
       "                                                   lemmatized_text  \\\n",
       "13826  check puma unisex redeem profoam running shoe rm get shopee   \n",
       "13827           check puma carina leather shoe white rm get shopee   \n",
       "13828   check puma retaliate tongue running shoe red rm get shopee   \n",
       "13829       check puma retaliate tongue running shoe rm get shopee   \n",
       "13830                          ever aware good future weapon whose   \n",
       "\n",
       "             Topic Label  \n",
       "13826              Price  \n",
       "13827              Price  \n",
       "13828              Price  \n",
       "13829              Price  \n",
       "13830  Size Availability  "
      ]
     },
     "execution_count": 48,
     "metadata": {},
     "output_type": "execute_result"
    }
   ],
   "source": [
    "df = pd.DataFrame(em[['created_at','username','lemmatized_text', 'Topic Label']])\n",
    "df.tail()"
   ]
  },
  {
   "cell_type": "code",
   "execution_count": 49,
   "id": "76b4cb62-35e1-4908-9f81-a026584d2f5e",
   "metadata": {},
   "outputs": [],
   "source": [
    "# Save the updated DataFrame to a new CSV file\n",
    "df.to_csv('Pumadataset_aspects.csv', index=False)  # This will save the file in the same directory"
   ]
  },
  {
   "cell_type": "code",
   "execution_count": null,
   "id": "59e1a31d-bf36-484b-80fa-4cc1b0f184d5",
   "metadata": {},
   "outputs": [],
   "source": []
  }
 ],
 "metadata": {
  "kernelspec": {
   "display_name": "Python 3 (ipykernel)",
   "language": "python",
   "name": "python3"
  },
  "language_info": {
   "codemirror_mode": {
    "name": "ipython",
    "version": 3
   },
   "file_extension": ".py",
   "mimetype": "text/x-python",
   "name": "python",
   "nbconvert_exporter": "python",
   "pygments_lexer": "ipython3",
   "version": "3.12.2"
  }
 },
 "nbformat": 4,
 "nbformat_minor": 5
}
