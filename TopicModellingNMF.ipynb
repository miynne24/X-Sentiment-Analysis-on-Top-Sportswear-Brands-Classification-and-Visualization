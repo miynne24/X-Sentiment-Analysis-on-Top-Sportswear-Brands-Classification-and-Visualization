{
 "cells": [
  {
   "cell_type": "code",
   "execution_count": 15,
   "id": "9a857863-0034-486e-aa03-fd6583779de8",
   "metadata": {},
   "outputs": [
    {
     "data": {
      "text/plain": [
       "<120927x8956 sparse matrix of type '<class 'numpy.float64'>'\n",
       "\twith 1075897 stored elements in Compressed Sparse Row format>"
      ]
     },
     "execution_count": 15,
     "metadata": {},
     "output_type": "execute_result"
    }
   ],
   "source": [
    "import pandas as pd\n",
    "from sklearn.feature_extraction.text import TfidfVectorizer\n",
    "from sklearn.decomposition import NMF\n",
    "from sklearn.metrics.pairwise import cosine_similarity\n",
    "import gensim\n",
    "from gensim.models import CoherenceModel\n",
    "from gensim.corpora.dictionary import Dictionary\n",
    "import numpy as np\n",
    "\n",
    "em=pd.read_csv('englishmodel_cleaned.csv')\n",
    "from sklearn.feature_extraction.text import TfidfVectorizer\n",
    "tfidf=TfidfVectorizer(max_df=0.85,min_df=5,stop_words='english')\n",
    "\n",
    "dtm=tfidf.fit_transform(em['StopWord Removal'])\n",
    "dtm"
   ]
  },
  {
   "cell_type": "code",
   "execution_count": 30,
   "id": "61de40f1-ede8-41ef-b0fe-df5b02c65bc2",
   "metadata": {},
   "outputs": [
    {
     "name": "stdout",
     "output_type": "stream",
     "text": [
      "(0, (10.239*\" good \" + 0.205*\" delivery \" + 0.162*\" really \" + 0.156*\" looking \" + 0.143*\" service \" + 0.137*\" packing \" + 0.132*\" products \" + 0.114*\" overall \" + 0.113*\" use \" + 0.109*\" performance \"))\n",
      "(1, (6.657*\" nice \" + 0.179*\" products \" + 0.103*\" looking \" + 0.076*\" watch \" + 0.059*\" colour \" + 0.052*\" packing \" + 0.049*\" really \" + 0.047*\" comfortable \" + 0.038*\" look \" + 0.038*\" design \"))\n",
      "(2, (7.877*\" product \" + 0.253*\" amazing \" + 0.237*\" satisfied \" + 0.190*\" useful \" + 0.126*\" great \" + 0.113*\" delivery \" + 0.113*\" worst \" + 0.099*\" use \" + 0.098*\" love \" + 0.077*\" loved \"))\n",
      "(3, (7.880*\" quality \" + 0.901*\" poor \" + 0.498*\" sound \" + 0.404*\" low \" + 0.300*\" superb \" + 0.245*\" picture \" + 0.166*\" build \" + 0.148*\" expected \" + 0.130*\" cloth \" + 0.122*\" cheap \"))\n",
      "(4, (4.836*\" money \" + 3.938*\" value \" + 0.773*\" waste \" + 0.086*\" dont \" + 0.068*\" superb \" + 0.059*\" performance \" + 0.058*\" tv \" + 0.055*\" great \" + 0.051*\" sound \" + 0.050*\" west \"))\n",
      "(5, (3.154*\" love \" + 2.030*\" dress \" + 2.012*\" great \" + 1.277*\" fit \" + 1.099*\" wear \" + 1.019*\" perfect \" + 1.011*\" comfortable \" + 0.952*\" im \" + 0.893*\" beautiful \" + 0.892*\" color \"))\n",
      "(6, (5.663*\" best \" + 0.195*\" products \" + 0.180*\" budget \" + 0.159*\" laptop \" + 0.153*\" market \" + 0.124*\" range \" + 0.119*\" performance \" + 0.102*\" tv \" + 0.082*\" use \" + 0.069*\" segment \"))\n",
      "(7, (5.901*\" flipkart \" + 3.194*\" thank \" + 2.962*\" thanks \" + 0.936*\" delivery \" + 0.448*\" fast \" + 0.366*\" amazing \" + 0.345*\" service \" + 0.224*\" time \" + 0.208*\" installation \" + 0.186*\" flipcart \"))\n",
      "(8, (7.095*\" bad \" + 0.286*\" dont \" + 0.201*\" experience \" + 0.182*\" waste \" + 0.178*\" products \" + 0.112*\" item \" + 0.108*\" service \" + 0.072*\" material \" + 0.071*\" cloth \" + 0.066*\" money \"))\n",
      "(9, (6.686*\" awesome \" + 0.284*\" really \" + 0.173*\" sound \" + 0.140*\" loved \" + 0.138*\" products \" + 0.099*\" simply \" + 0.091*\" performance \" + 0.077*\" superb \" + 0.077*\" watch \" + 0.076*\" bass \"))\n",
      "(10, (5.806*\" super \" + 0.156*\" fast \" + 0.107*\" cute \" + 0.073*\" wow \" + 0.071*\" soft \" + 0.061*\" sound \" + 0.060*\" delivery \" + 0.046*\" comfy \" + 0.044*\" products \" + 0.043*\" performance \"))\n",
      "(11, (5.332*\" price \" + 1.109*\" range \" + 0.414*\" high \" + 0.378*\" low \" + 0.297*\" reasonable \" + 0.248*\" according \" + 0.190*\" affordable \" + 0.158*\" great \" + 0.129*\" tv \" + 0.109*\" better \"))\n",
      "(12, (4.965*\" buy \" + 1.946*\" dont \" + 0.652*\" worst \" + 0.501*\" waste \" + 0.236*\" poor \" + 0.099*\" products \" + 0.095*\" think \" + 0.094*\" recommend \" + 0.080*\" want \" + 0.079*\" money \"))\n",
      "(13, (5.287*\" happy \" + 0.663*\" im \" + 0.225*\" purchase \" + 0.189*\" really \" + 0.174*\" iam \" + 0.096*\" products \" + 0.076*\" producti \" + 0.066*\" thank \" + 0.063*\" son \" + 0.048*\" mom \"))\n",
      "(14, (3.850*\" small \" + 3.032*\" size \" + 0.272*\" little \" + 0.263*\" plates \" + 0.251*\" plate \" + 0.218*\" big \" + 0.176*\" bit \" + 0.172*\" bowl \" + 0.168*\" medium \" + 0.161*\" ordered \"))\n",
      "(15, (5.409*\" excellent \" + 0.232*\" delivery \" + 0.188*\" service \" + 0.171*\" performance \" + 0.109*\" fast \" + 0.105*\" loved \" + 0.099*\" sound \" + 0.094*\" installation \" + 0.088*\" purchase \" + 0.085*\" easy \"))\n",
      "(16, (5.204*\" working \" + 0.638*\" properly \" + 0.551*\" fine \" + 0.400*\" month \" + 0.364*\" days \" + 0.353*\" months \" + 0.314*\" stopped \" + 0.264*\" using \" + 0.252*\" use \" + 0.216*\" remote \"))\n",
      "(17, (5.303*\" ok \" + 0.133*\" use \" + 0.101*\" sound \" + 0.085*\" type \" + 0.072*\" expected \" + 0.071*\" overall \" + 0.056*\" better \" + 0.050*\" average \" + 0.048*\" little \" + 0.045*\" speed \"))\n",
      "(18, (5.464*\" worth \" + 0.948*\" money \" + 0.523*\" buying \" + 0.409*\" really \" + 0.276*\" penny \" + 0.230*\" amazing \" + 0.099*\" cost \" + 0.097*\" loved \" + 0.069*\" purchase \" + 0.067*\" totally \"))\n",
      "(19, (4.005*\" like \" + 0.763*\" really \" + 0.189*\" look \" + 0.184*\" dont \" + 0.173*\" looks \" + 0.104*\" picture \" + 0.096*\" superb \" + 0.092*\" feel \" + 0.086*\" didnt \" + 0.079*\" model \"))\n"
     ]
    }
   ],
   "source": [
    "from sklearn.decomposition import NMF\n",
    "nmf_model=NMF(n_components=20,random_state=1000)\n",
    "nmf_model.fit(dtm)\n",
    "\n",
    "def display_topics(model, feature_names, num_top_words):\n",
    "    for index, topic in enumerate(model.components_):\n",
    "        print(f\"({index}, (\", end='')\n",
    "        top_features = [(feature_names[i], topic[i]) for i in topic.argsort()[-num_top_words:]]\n",
    "        print(' + '.join([f'{weight:.3f}*\" {word} \"' for word, weight in reversed(top_features)]), end='')\n",
    "        print(\"))\")\n",
    "\n",
    "# Display the topics\n",
    "num_top_words = 10\n",
    "feature_names = tfidf.get_feature_names_out()\n",
    "display_topics(nmf_model, feature_names, num_top_words)"
   ]
  },
  {
   "cell_type": "code",
   "execution_count": 3,
   "id": "85315a5b-9f80-43dd-ad75-a3ff401f0d1d",
   "metadata": {},
   "outputs": [
    {
     "data": {
      "text/plain": [
       "array([2, 1, 3, ..., 3, 4, 3], dtype=int64)"
      ]
     },
     "execution_count": 3,
     "metadata": {},
     "output_type": "execute_result"
    }
   ],
   "source": [
    "topic_results=nmf_model.transform(dtm)\n",
    "topic_results.argmax(axis=1)"
   ]
  },
  {
   "cell_type": "code",
   "execution_count": 4,
   "id": "12291732-48b0-4e58-96b4-c47fe91c87ba",
   "metadata": {},
   "outputs": [],
   "source": [
    "em['Topic']=topic_results.argmax(axis=1)"
   ]
  },
  {
   "cell_type": "code",
   "execution_count": 5,
   "id": "06fc8643-a410-4202-a808-c1ec9fcacb4f",
   "metadata": {},
   "outputs": [],
   "source": [
    "mytopic_dict={\n",
    "    0:'Size Availability',\n",
    "    1:'Durability',\n",
    "    2:'Discount and Promotion',\n",
    "    3:'Comfortability',\n",
    "    4:'Price'}\n",
    "\n",
    "em['Topic Label']=em['Topic'].map(mytopic_dict)"
   ]
  },
  {
   "cell_type": "code",
   "execution_count": 6,
   "id": "757f6893-d4d9-4ca2-9323-c728772880f4",
   "metadata": {},
   "outputs": [],
   "source": [
    "# Extract top ten keywords for each topic\n",
    "def get_top_keywords(model, feature_names, n_top_words):\n",
    "    top_keywords = {}\n",
    "    for idx, topic in enumerate(model.components_):\n",
    "        top_features = [feature_names[i] for i in topic.argsort()[-n_top_words:]]\n",
    "        top_keywords[idx] = ', '.join(reversed(top_features))\n",
    "    return top_keywords\n"
   ]
  },
  {
   "cell_type": "code",
   "execution_count": 7,
   "id": "5b091d39-d520-4e55-b026-676423b1cfa2",
   "metadata": {},
   "outputs": [
    {
     "name": "stdout",
     "output_type": "stream",
     "text": [
      "Aspect Counts:\n",
      "Topic Label\n",
      "Comfortability            48908\n",
      "Discount and Promotion    28892\n",
      "Size Availability         16950\n",
      "Durability                15780\n",
      "Price                     10397\n",
      "Name: count, dtype: int64\n"
     ]
    }
   ],
   "source": [
    "#DATA PREPROCESSING\n",
    "# Apply the function to extract top ten keywords\n",
    "top_keywords = get_top_keywords(nmf_model, tfidf.get_feature_names_out(), 10)\n",
    "\n",
    "# Add top ten keywords to the DataFrame\n",
    "em['Top Ten Keywords'] = em['Topic'].apply(lambda x: top_keywords[x])\n",
    "# Count the frequency of each aspect\n",
    "aspect_counts = em['Topic Label'].value_counts()\n",
    "\n",
    "# Display the aspect counts\n",
    "print(\"Aspect Counts:\")\n",
    "print(aspect_counts)"
   ]
  },
  {
   "cell_type": "code",
   "execution_count": 8,
   "id": "0ffa9016-593a-475e-8941-851a344ed67d",
   "metadata": {},
   "outputs": [
    {
     "data": {
      "text/html": [
       "<div>\n",
       "<style scoped>\n",
       "    .dataframe tbody tr th:only-of-type {\n",
       "        vertical-align: middle;\n",
       "    }\n",
       "\n",
       "    .dataframe tbody tr th {\n",
       "        vertical-align: top;\n",
       "    }\n",
       "\n",
       "    .dataframe thead th {\n",
       "        text-align: right;\n",
       "    }\n",
       "</style>\n",
       "<table border=\"1\" class=\"dataframe\">\n",
       "  <thead>\n",
       "    <tr style=\"text-align: right;\">\n",
       "      <th></th>\n",
       "      <th>Topic</th>\n",
       "      <th>Topic Label</th>\n",
       "      <th>Top Ten Keywords</th>\n",
       "    </tr>\n",
       "  </thead>\n",
       "  <tbody>\n",
       "    <tr>\n",
       "      <th>0</th>\n",
       "      <td>2</td>\n",
       "      <td>Discount and Promotion</td>\n",
       "      <td>product, flipkart, awesome, happy, buy, price, excellent, thank, thanks, best</td>\n",
       "    </tr>\n",
       "    <tr>\n",
       "      <th>1</th>\n",
       "      <td>1</td>\n",
       "      <td>Durability</td>\n",
       "      <td>nice, products, flipkart, thank, looking, like, happy, really, thanks, small</td>\n",
       "    </tr>\n",
       "    <tr>\n",
       "      <th>2</th>\n",
       "      <td>3</td>\n",
       "      <td>Comfortability</td>\n",
       "      <td>quality, best, bad, poor, price, super, size, sound, low, small</td>\n",
       "    </tr>\n",
       "    <tr>\n",
       "      <th>3</th>\n",
       "      <td>2</td>\n",
       "      <td>Discount and Promotion</td>\n",
       "      <td>product, flipkart, awesome, happy, buy, price, excellent, thank, thanks, best</td>\n",
       "    </tr>\n",
       "    <tr>\n",
       "      <th>4</th>\n",
       "      <td>2</td>\n",
       "      <td>Discount and Promotion</td>\n",
       "      <td>product, flipkart, awesome, happy, buy, price, excellent, thank, thanks, best</td>\n",
       "    </tr>\n",
       "  </tbody>\n",
       "</table>\n",
       "</div>"
      ],
      "text/plain": [
       "   Topic             Topic Label  \\\n",
       "0      2  Discount and Promotion   \n",
       "1      1              Durability   \n",
       "2      3          Comfortability   \n",
       "3      2  Discount and Promotion   \n",
       "4      2  Discount and Promotion   \n",
       "\n",
       "                                                                Top Ten Keywords  \n",
       "0  product, flipkart, awesome, happy, buy, price, excellent, thank, thanks, best  \n",
       "1   nice, products, flipkart, thank, looking, like, happy, really, thanks, small  \n",
       "2                quality, best, bad, poor, price, super, size, sound, low, small  \n",
       "3  product, flipkart, awesome, happy, buy, price, excellent, thank, thanks, best  \n",
       "4  product, flipkart, awesome, happy, buy, price, excellent, thank, thanks, best  "
      ]
     },
     "execution_count": 8,
     "metadata": {},
     "output_type": "execute_result"
    }
   ],
   "source": [
    "pd.set_option('display.max_colwidth', None)\n",
    "# Display the modified DataFrame\n",
    "df = pd.DataFrame(em[['Topic', 'Topic Label', 'Top Ten Keywords']])\n",
    "df.head()"
   ]
  },
  {
   "cell_type": "code",
   "execution_count": 9,
   "id": "a6e03b79-2401-420d-a783-55e40d951fc0",
   "metadata": {},
   "outputs": [
    {
     "data": {
      "text/html": [
       "<div>\n",
       "<style scoped>\n",
       "    .dataframe tbody tr th:only-of-type {\n",
       "        vertical-align: middle;\n",
       "    }\n",
       "\n",
       "    .dataframe tbody tr th {\n",
       "        vertical-align: top;\n",
       "    }\n",
       "\n",
       "    .dataframe thead th {\n",
       "        text-align: right;\n",
       "    }\n",
       "</style>\n",
       "<table border=\"1\" class=\"dataframe\">\n",
       "  <thead>\n",
       "    <tr style=\"text-align: right;\">\n",
       "      <th></th>\n",
       "      <th>Topic</th>\n",
       "      <th>Topic Label</th>\n",
       "      <th>Top Ten Keywords</th>\n",
       "    </tr>\n",
       "  </thead>\n",
       "  <tbody>\n",
       "    <tr>\n",
       "      <th>120910</th>\n",
       "      <td>3</td>\n",
       "      <td>Comfortability</td>\n",
       "      <td>quality, best, bad, poor, price, super, size, sound, low, small</td>\n",
       "    </tr>\n",
       "    <tr>\n",
       "      <th>120911</th>\n",
       "      <td>1</td>\n",
       "      <td>Durability</td>\n",
       "      <td>nice, products, flipkart, thank, looking, like, happy, really, thanks, small</td>\n",
       "    </tr>\n",
       "    <tr>\n",
       "      <th>120912</th>\n",
       "      <td>3</td>\n",
       "      <td>Comfortability</td>\n",
       "      <td>quality, best, bad, poor, price, super, size, sound, low, small</td>\n",
       "    </tr>\n",
       "    <tr>\n",
       "      <th>120913</th>\n",
       "      <td>3</td>\n",
       "      <td>Comfortability</td>\n",
       "      <td>quality, best, bad, poor, price, super, size, sound, low, small</td>\n",
       "    </tr>\n",
       "    <tr>\n",
       "      <th>120914</th>\n",
       "      <td>3</td>\n",
       "      <td>Comfortability</td>\n",
       "      <td>quality, best, bad, poor, price, super, size, sound, low, small</td>\n",
       "    </tr>\n",
       "    <tr>\n",
       "      <th>120915</th>\n",
       "      <td>3</td>\n",
       "      <td>Comfortability</td>\n",
       "      <td>quality, best, bad, poor, price, super, size, sound, low, small</td>\n",
       "    </tr>\n",
       "    <tr>\n",
       "      <th>120916</th>\n",
       "      <td>3</td>\n",
       "      <td>Comfortability</td>\n",
       "      <td>quality, best, bad, poor, price, super, size, sound, low, small</td>\n",
       "    </tr>\n",
       "    <tr>\n",
       "      <th>120917</th>\n",
       "      <td>3</td>\n",
       "      <td>Comfortability</td>\n",
       "      <td>quality, best, bad, poor, price, super, size, sound, low, small</td>\n",
       "    </tr>\n",
       "    <tr>\n",
       "      <th>120918</th>\n",
       "      <td>3</td>\n",
       "      <td>Comfortability</td>\n",
       "      <td>quality, best, bad, poor, price, super, size, sound, low, small</td>\n",
       "    </tr>\n",
       "    <tr>\n",
       "      <th>120919</th>\n",
       "      <td>3</td>\n",
       "      <td>Comfortability</td>\n",
       "      <td>quality, best, bad, poor, price, super, size, sound, low, small</td>\n",
       "    </tr>\n",
       "    <tr>\n",
       "      <th>120920</th>\n",
       "      <td>2</td>\n",
       "      <td>Discount and Promotion</td>\n",
       "      <td>product, flipkart, awesome, happy, buy, price, excellent, thank, thanks, best</td>\n",
       "    </tr>\n",
       "    <tr>\n",
       "      <th>120921</th>\n",
       "      <td>3</td>\n",
       "      <td>Comfortability</td>\n",
       "      <td>quality, best, bad, poor, price, super, size, sound, low, small</td>\n",
       "    </tr>\n",
       "    <tr>\n",
       "      <th>120922</th>\n",
       "      <td>3</td>\n",
       "      <td>Comfortability</td>\n",
       "      <td>quality, best, bad, poor, price, super, size, sound, low, small</td>\n",
       "    </tr>\n",
       "    <tr>\n",
       "      <th>120923</th>\n",
       "      <td>1</td>\n",
       "      <td>Durability</td>\n",
       "      <td>nice, products, flipkart, thank, looking, like, happy, really, thanks, small</td>\n",
       "    </tr>\n",
       "    <tr>\n",
       "      <th>120924</th>\n",
       "      <td>3</td>\n",
       "      <td>Comfortability</td>\n",
       "      <td>quality, best, bad, poor, price, super, size, sound, low, small</td>\n",
       "    </tr>\n",
       "    <tr>\n",
       "      <th>120925</th>\n",
       "      <td>4</td>\n",
       "      <td>Price</td>\n",
       "      <td>money, value, worth, waste, buy, dont, best, working, worst, excellent</td>\n",
       "    </tr>\n",
       "  </tbody>\n",
       "</table>\n",
       "</div>"
      ],
      "text/plain": [
       "        Topic             Topic Label  \\\n",
       "120910      3          Comfortability   \n",
       "120911      1              Durability   \n",
       "120912      3          Comfortability   \n",
       "120913      3          Comfortability   \n",
       "120914      3          Comfortability   \n",
       "120915      3          Comfortability   \n",
       "120916      3          Comfortability   \n",
       "120917      3          Comfortability   \n",
       "120918      3          Comfortability   \n",
       "120919      3          Comfortability   \n",
       "120920      2  Discount and Promotion   \n",
       "120921      3          Comfortability   \n",
       "120922      3          Comfortability   \n",
       "120923      1              Durability   \n",
       "120924      3          Comfortability   \n",
       "120925      4                   Price   \n",
       "\n",
       "                                                                     Top Ten Keywords  \n",
       "120910                quality, best, bad, poor, price, super, size, sound, low, small  \n",
       "120911   nice, products, flipkart, thank, looking, like, happy, really, thanks, small  \n",
       "120912                quality, best, bad, poor, price, super, size, sound, low, small  \n",
       "120913                quality, best, bad, poor, price, super, size, sound, low, small  \n",
       "120914                quality, best, bad, poor, price, super, size, sound, low, small  \n",
       "120915                quality, best, bad, poor, price, super, size, sound, low, small  \n",
       "120916                quality, best, bad, poor, price, super, size, sound, low, small  \n",
       "120917                quality, best, bad, poor, price, super, size, sound, low, small  \n",
       "120918                quality, best, bad, poor, price, super, size, sound, low, small  \n",
       "120919                quality, best, bad, poor, price, super, size, sound, low, small  \n",
       "120920  product, flipkart, awesome, happy, buy, price, excellent, thank, thanks, best  \n",
       "120921                quality, best, bad, poor, price, super, size, sound, low, small  \n",
       "120922                quality, best, bad, poor, price, super, size, sound, low, small  \n",
       "120923   nice, products, flipkart, thank, looking, like, happy, really, thanks, small  \n",
       "120924                quality, best, bad, poor, price, super, size, sound, low, small  \n",
       "120925         money, value, worth, waste, buy, dont, best, working, worst, excellent  "
      ]
     },
     "execution_count": 9,
     "metadata": {},
     "output_type": "execute_result"
    }
   ],
   "source": [
    "df.iloc[120910:120926]"
   ]
  },
  {
   "cell_type": "code",
   "execution_count": 31,
   "id": "335ae317-4e29-4a52-b94b-f4e3d1f15e4f",
   "metadata": {},
   "outputs": [
    {
     "name": "stdout",
     "output_type": "stream",
     "text": [
      "Coherence Score: 0.4640647414665059\n",
      "Cohesion Score: 0.07814361560902597\n"
     ]
    }
   ],
   "source": [
    "# Coherence Score Calculation\n",
    "# Prepare data for gensim\n",
    "texts = [text.split() for text in em['normalized_text']]\n",
    "dictionary = Dictionary(texts)\n",
    "corpus = [dictionary.doc2bow(text) for text in texts]\n",
    "\n",
    "# Create NMF topics\n",
    "topics = [[feature_names[i] for i in topic.argsort()[-15:]] for topic in nmf_model.components_]\n",
    "coherence_model = CoherenceModel(topics=topics, texts=texts, dictionary=dictionary, coherence='c_v')\n",
    "coherence_score = coherence_model.get_coherence()\n",
    "print(f\"Coherence Score: {coherence_score}\")\n",
    "\n",
    "# Cohesion Score Calculation with Sampling\n",
    "def calculate_cohesion(dtm, topic_results, sample_size=1000):\n",
    "    n_topics = topic_results.shape[1]\n",
    "    cohesion_scores = []\n",
    "    for topic in range(n_topics):\n",
    "        topic_docs_indices = np.where(topic_results.argmax(axis=1) == topic)[0]\n",
    "        if len(topic_docs_indices) > 1:\n",
    "            sampled_indices = np.random.choice(topic_docs_indices, min(sample_size, len(topic_docs_indices)), replace=False)\n",
    "            topic_docs = dtm[sampled_indices].toarray()\n",
    "            similarity_matrix = cosine_similarity(topic_docs)\n",
    "            np.fill_diagonal(similarity_matrix, 0)\n",
    "            cohesion = np.mean(similarity_matrix)\n",
    "            cohesion_scores.append(cohesion)\n",
    "        else:\n",
    "            cohesion_scores.append(0)  # Assign zero if only one document or none in the topic\n",
    "    return np.mean(cohesion_scores)\n",
    "\n",
    "cohesion_score = calculate_cohesion(dtm, topic_results)\n",
    "print(f\"Cohesion Score: {cohesion_score}\")"
   ]
  },
  {
   "cell_type": "code",
   "execution_count": null,
   "id": "9150c430-811e-42ad-ba00-690177ad02ee",
   "metadata": {},
   "outputs": [],
   "source": []
  }
 ],
 "metadata": {
  "kernelspec": {
   "display_name": "Python 3 (ipykernel)",
   "language": "python",
   "name": "python3"
  },
  "language_info": {
   "codemirror_mode": {
    "name": "ipython",
    "version": 3
   },
   "file_extension": ".py",
   "mimetype": "text/x-python",
   "name": "python",
   "nbconvert_exporter": "python",
   "pygments_lexer": "ipython3",
   "version": "3.12.2"
  }
 },
 "nbformat": 4,
 "nbformat_minor": 5
}
